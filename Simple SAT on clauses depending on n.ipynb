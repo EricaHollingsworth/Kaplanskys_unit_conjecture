{
 "cells": [
  {
   "cell_type": "markdown",
   "id": "2308841e-1a1c-4cb8-b754-550fba319ad8",
   "metadata": {},
   "source": [
    "### 1 Readying Clauses"
   ]
  },
  {
   "cell_type": "markdown",
   "id": "50801ded-31fa-4b52-830c-bcb1dbbf8c5b",
   "metadata": {},
   "source": [
    "Firstly we specify n"
   ]
  },
  {
   "cell_type": "code",
   "execution_count": null,
   "id": "dddb6907-6514-4cdc-9ea1-9e50cc180ac8",
   "metadata": {},
   "outputs": [],
   "source": [
    "n=2\n",
    "round_balls=False"
   ]
  },
  {
   "cell_type": "markdown",
   "id": "f7003fe9-f5d3-40b0-855c-da1cf6c54d76",
   "metadata": {},
   "source": [
    "#### Importing Clauses"
   ]
  },
  {
   "cell_type": "code",
   "execution_count": null,
   "id": "f8649134-457b-48d8-a8f2-0820573b8d5a",
   "metadata": {},
   "outputs": [],
   "source": [
    "import ast #helps to change string into list below"
   ]
  },
  {
   "cell_type": "code",
   "execution_count": null,
   "id": "4ee4299b-cbd7-4581-b67e-edc44daf4142",
   "metadata": {},
   "outputs": [],
   "source": [
    "if not round_balls:\n",
    "    f = open(f\"clauses_{n}.txt\",\"r\")\n",
    "    clauses=ast.literal_eval(f.read())\n",
    "if round_balls:\n",
    "    f = open(f\"clauses_round_{n}.txt\",\"r\")\n",
    "    clauses=ast.literal_eval(f.read())"
   ]
  },
  {
   "cell_type": "code",
   "execution_count": null,
   "id": "10eed192-9f27-41c3-9473-4d6ebe2de26b",
   "metadata": {},
   "outputs": [],
   "source": [
    "len(clauses)"
   ]
  },
  {
   "cell_type": "code",
   "execution_count": null,
   "id": "373ea885-dac8-48ad-ba1f-d26cc531844e",
   "metadata": {},
   "outputs": [],
   "source": [
    "max([item for sublist in clauses for item in sublist]) #no of literals"
   ]
  },
  {
   "cell_type": "markdown",
   "id": "fa151781-33b0-4591-94cd-ea0db2199ab7",
   "metadata": {},
   "source": [
    "### 2 starting SAT"
   ]
  },
  {
   "cell_type": "markdown",
   "id": "8b228016-dccd-4dd3-83a4-fa177acc3c41",
   "metadata": {},
   "source": [
    "In the following line I import a solver. Note that at the moment Minisat22 is chosen as Solver, but that this can be changed without changing anything else in the document - syntax seems to be consistent across solvers"
   ]
  },
  {
   "cell_type": "code",
   "execution_count": null,
   "id": "dad0785c-aefb-406d-a798-b031a5264080",
   "metadata": {},
   "outputs": [],
   "source": [
    "from pysat.solvers import Glucose3 as Solver"
   ]
  },
  {
   "cell_type": "code",
   "execution_count": null,
   "id": "3bcd6437-1f56-4f74-9cee-8910b5e35aba",
   "metadata": {},
   "outputs": [],
   "source": [
    "s=Solver()\n",
    "s.append_formula(clauses)"
   ]
  },
  {
   "cell_type": "code",
   "execution_count": null,
   "id": "2ee00129-c6ce-4089-a773-841ccd3382b6",
   "metadata": {},
   "outputs": [],
   "source": [
    "import time"
   ]
  },
  {
   "cell_type": "code",
   "execution_count": null,
   "id": "edcf742c-6617-43ce-8612-661d23961d46",
   "metadata": {},
   "outputs": [],
   "source": [
    "time0=time.time()\n",
    "value=s.solve()\n",
    "time_spent=time.time()-time0\n",
    "print(value)\n",
    "print(time_spent)"
   ]
  },
  {
   "cell_type": "code",
   "execution_count": null,
   "id": "827074d0-d6c4-4c2c-9eda-13842f731c2c",
   "metadata": {},
   "outputs": [],
   "source": [
    "if value==False:\n",
    "    print(s.get_core())\n",
    "else:\n",
    "    model=s.get_model()\n",
    "    [i for i in model if i>0]"
   ]
  },
  {
   "cell_type": "code",
   "execution_count": null,
   "id": "b66f36e1-8492-4c92-bd15-49ff28e5bc8f",
   "metadata": {},
   "outputs": [],
   "source": [
    "with open('SAT_record.txt','a') as g:\n",
    "        g.write(str([n,round_balls,value,time_spent])+',')"
   ]
  },
  {
   "cell_type": "code",
   "execution_count": null,
   "id": "d3dabb62-a0cd-44fa-aa1d-0239a426e9b4",
   "metadata": {},
   "outputs": [],
   "source": []
  }
 ],
 "metadata": {
  "kernelspec": {
   "display_name": "Python [conda env:base] *",
   "language": "python",
   "name": "conda-base-py"
  },
  "language_info": {
   "codemirror_mode": {
    "name": "ipython",
    "version": 3
   },
   "file_extension": ".py",
   "mimetype": "text/x-python",
   "name": "python",
   "nbconvert_exporter": "python",
   "pygments_lexer": "ipython3",
   "version": "3.12.7"
  }
 },
 "nbformat": 4,
 "nbformat_minor": 5
}
