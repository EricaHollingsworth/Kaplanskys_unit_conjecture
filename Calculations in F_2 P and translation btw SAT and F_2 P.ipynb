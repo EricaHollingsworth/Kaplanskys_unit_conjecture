{
 "cells": [
  {
   "cell_type": "markdown",
   "id": "4590f0b1-4bb2-4b06-aa79-1f0c1954c447",
   "metadata": {},
   "source": [
    "## Calculations in F_2 P"
   ]
  },
  {
   "cell_type": "markdown",
   "id": "5bb8f664-096f-45d7-8171-dfdbc05a6927",
   "metadata": {},
   "source": [
    "This script aims to create an environment correspinding to F_2 P, where one can carry out all the calculations that one could want: inverting elements of P as well as adding and multiplying elements of F_2 P. In order to do this, some functions from 'Generating balls of P and finding equals' are copyed here (as importing got messy) and the balls up to B(10) imported."
   ]
  },
  {
   "cell_type": "markdown",
   "id": "fbd96852-a7b9-48a4-a2d6-6bf98b37aaa9",
   "metadata": {},
   "source": [
    "Any element in F_2 P will be presented by a list of elements of P"
   ]
  },
  {
   "cell_type": "markdown",
   "id": "c43e314a-cb3d-454a-99f3-a4a748faeae9",
   "metadata": {},
   "source": [
    "Secondly this script also aims to translate elements between the string as named in 'Generating Balls of P and finding equals' and the integers that is the SAT-solvers input and output "
   ]
  },
  {
   "cell_type": "markdown",
   "id": "676e2a6d-4faf-42ac-ad65-dfa1c204de84",
   "metadata": {},
   "source": [
    "## The setup"
   ]
  },
  {
   "cell_type": "markdown",
   "id": "c0f63dc3-9327-4e7d-a44e-623ff6ffe31e",
   "metadata": {
    "jp-MarkdownHeadingCollapsed": true
   },
   "source": [
    "### Copyed functions and lists"
   ]
  },
  {
   "cell_type": "code",
   "execution_count": 7,
   "id": "cbef6d1e-70c7-449b-a763-248ccf74acb4",
   "metadata": {},
   "outputs": [],
   "source": [
    "inverses=['qw','wq','po','op']\n",
    "all_relation_identities=['wppqpp', 'ppqppw', 'pqppwp', 'qppwpp', 'ppwppq', 'pwppqp', 'oowooq', 'owooqo', 'wooqoo',\n",
    "                         'ooqoow', 'oqoowo', 'qoowoo', 'oqqpqq', 'qqpqqo', 'qpqqoq', 'pqqoqq', 'qqoqqp', 'qoqqpq', \n",
    "                         'wwowwp', 'wowwpw', 'owwpww', 'wwpwwo', 'wpwwow', 'pwwoww']"
   ]
  },
  {
   "cell_type": "code",
   "execution_count": 8,
   "id": "0e3709c3-be9e-4e60-8d4d-ed9df2b25592",
   "metadata": {},
   "outputs": [],
   "source": [
    "def remove_identity(w):\n",
    "    '''The function removes any instance of 28 identity words\n",
    "    - the 4 words of length 2 and the 24 of length 6 given by the realtion on P.\n",
    "    The function needs the globally defined lists all_relation_identities and inverses'''\n",
    "    word=w\n",
    "\n",
    "    #mapping inverses to the identity\n",
    "    for i in inverses:\n",
    "        word=word.replace(i,'')\n",
    "\n",
    "    if len(word)>=6: #Possibly saving some time\n",
    "        #Doing the same for all the identities from the relations\n",
    "    \n",
    "        for i in all_relation_identities:\n",
    "            word=word.replace(i,'')\n",
    "    return word"
   ]
  },
  {
   "cell_type": "code",
   "execution_count": 9,
   "id": "b0e271a0-30bf-4083-bd11-3b6e854b42a2",
   "metadata": {},
   "outputs": [],
   "source": [
    "def repeat_remove_identity(w):\n",
    "    '''This function repeatedly runs remove_identity, untill it does not have any of the 28 identity words in it.\n",
    "    It requires remove_identity function as well as the two lists of identities\n",
    "    '''\n",
    "    word=w\n",
    "\n",
    "    #The word is reduced by the remove_identity function\n",
    "    word=remove_identity(word)\n",
    "\n",
    "    #If the word is unchanged by the function above it is simply returned\n",
    "    if word==w:\n",
    "        return word        \n",
    "\n",
    "    #otherwise it calls this function again\n",
    "    return repeat_remove_identity(word)"
   ]
  },
  {
   "cell_type": "code",
   "execution_count": 10,
   "id": "b30f1974-aaf2-40ef-8b6d-66902f1a688f",
   "metadata": {},
   "outputs": [],
   "source": [
    "def inverse(w):\n",
    "    '''This function returns the inverse element of w'''\n",
    "    #Inversed order\n",
    "    word=w[::-1]\n",
    "\n",
    "    #Swapping all a and o's as well as p and b's (via dummies called e)\n",
    "    word=word.replace('p','e')\n",
    "    word=word.replace('o','p')\n",
    "    word=word.replace('e','o')\n",
    "    word=word.replace('w','e')\n",
    "    word=word.replace('q','w')\n",
    "    word=word.replace('e','q')\n",
    "\n",
    "    return word"
   ]
  },
  {
   "cell_type": "code",
   "execution_count": 11,
   "id": "912389c8-cab1-4ba7-8f8e-6afadc4ed823",
   "metadata": {},
   "outputs": [],
   "source": [
    "sisters=['wpp', 'ppq', 'pqp', 'qpp', 'ppw', 'pwp', 'oow', 'owo', 'woo', 'ooq', 'oqo', 'qoo', 'oqq',\n",
    "         'qqp', 'qpq', 'pqq', 'qqo', 'qoq', 'wwo', 'wow', 'oww', 'wwp', 'wpw', 'pww']\n",
    "sistertwin=['oow', 'qoo', 'oqo', 'ooq', 'woo', 'owo', 'wpp', 'pwp', 'ppw', 'qpp', 'pqp', 'ppq', 'wwo',\n",
    "            'pww', 'wpw', 'wwp', 'oww', 'wow', 'oqq', 'qoq', 'qqo', 'pqq', 'qpq', 'qqp']\n",
    "sisters_special=['wpp', 'ppq', 'pqp', 'qpp', 'ppw', 'pwp', 'oqq', 'qqp', 'qpq', 'pqq', 'qqo', 'qoq',\n",
    "                 'oow', 'owo', 'woo', 'ooq', 'oqo', 'qoo', 'wwo', 'wow', 'oww', 'wwp', 'wpw', 'pww']"
   ]
  },
  {
   "cell_type": "code",
   "execution_count": 12,
   "id": "1b620f1c-7425-4c5a-b3c9-5883d6564f01",
   "metadata": {},
   "outputs": [],
   "source": [
    "def reduce(w):\n",
    "    ''' This function reduces w by running the repeat_remove_identity and then\n",
    "    swapping sisters following the order of the sisters_special list, reducing for identity-occurences along the way\n",
    "    '''\n",
    "    word=w\n",
    "\n",
    "    word=repeat_remove_identity(word)\n",
    "    \n",
    "    for i in sisters_special:\n",
    "        word=word.replace(i,sistertwin[sisters.index(i)])\n",
    "        word=repeat_remove_identity(word)\n",
    "\n",
    "    return word"
   ]
  },
  {
   "cell_type": "code",
   "execution_count": 13,
   "id": "408f1e24-f3d2-4a6b-a396-37f77e788f0b",
   "metadata": {},
   "outputs": [],
   "source": [
    "import random"
   ]
  },
  {
   "cell_type": "code",
   "execution_count": 14,
   "id": "009a9f05-5215-4051-9825-84195915ef0a",
   "metadata": {},
   "outputs": [],
   "source": [
    "def reduce_random(w,n):\n",
    "    ''' This function reduces w by running the repeat_remove_identity and then\n",
    "    randomly (via random.randint) swapping sisters n times, reducing for identity-occurences along the way'''\n",
    "\n",
    "    word=w\n",
    "    word=repeat_remove_identity(word)\n",
    "    \n",
    "    for i in range(n):\n",
    "        r=random.randint(0,23)\n",
    "        word=word.replace(sisters[r],sistertwin[r])\n",
    "        word=repeat_remove_identity(word)\n",
    "\n",
    "    return word"
   ]
  },
  {
   "cell_type": "code",
   "execution_count": 15,
   "id": "8b5b458e-a9b7-4f3d-b9f0-3674a070c25c",
   "metadata": {},
   "outputs": [],
   "source": [
    "def find_equal(w,lst,n=100,r=1):\n",
    "    ''' This function reduces the word w recursively (via both reduce and reduce_random) until it is found in the lst. \n",
    "        If it has not found a solution after 1000 runs it returns 'problem' '''\n",
    "    word=w\n",
    "    word=reduce(word)\n",
    "    word=reduce_random(word,n)\n",
    "    \n",
    "    if word in lst:\n",
    "        return word\n",
    "    \n",
    "    if r>1001:\n",
    "        return 'problem'\n",
    "    \n",
    "    return find_equal(word,lst,n,r+1)"
   ]
  },
  {
   "cell_type": "markdown",
   "id": "26543b5f-224a-4f89-8cf6-da3b653438c4",
   "metadata": {
    "jp-MarkdownHeadingCollapsed": true
   },
   "source": [
    "### Imported balls B(10)"
   ]
  },
  {
   "cell_type": "code",
   "execution_count": 17,
   "id": "31c56de3-8d2e-42a6-a061-be9e9b73d06f",
   "metadata": {},
   "outputs": [],
   "source": [
    "import ast #helps to change string into list below"
   ]
  },
  {
   "cell_type": "code",
   "execution_count": 18,
   "id": "9a504c41-ea12-4c7a-b389-50df2a91c325",
   "metadata": {},
   "outputs": [],
   "source": [
    "f = open(\"B.txt\")\n",
    "B=ast.literal_eval(f.read())"
   ]
  },
  {
   "cell_type": "markdown",
   "id": "2fa3da5c-c215-4d9e-91a0-c354eb4d4aaa",
   "metadata": {
    "jp-MarkdownHeadingCollapsed": true
   },
   "source": [
    "### Defining sum and product function"
   ]
  },
  {
   "cell_type": "markdown",
   "id": "e7ebaa86-ded5-4218-95eb-9f1bb1b8b367",
   "metadata": {},
   "source": [
    "Sum is defined quite simply as joining lists. And this is already a feature of python as following example illustrates"
   ]
  },
  {
   "cell_type": "code",
   "execution_count": 21,
   "id": "22492912-48cf-4010-a3b9-2a482b8bbec0",
   "metadata": {},
   "outputs": [
    {
     "data": {
      "text/plain": [
       "['p', 'pq', '', 'p']"
      ]
     },
     "execution_count": 21,
     "metadata": {},
     "output_type": "execute_result"
    }
   ],
   "source": [
    "['p','pq','']+['p']"
   ]
  },
  {
   "cell_type": "markdown",
   "id": "f73f521a-4be7-456a-a47e-96ec3a6e75be",
   "metadata": {},
   "source": [
    "We therefore only need the sum function to check that no string occurs twice in the adjoined list."
   ]
  },
  {
   "cell_type": "code",
   "execution_count": 23,
   "id": "d6727b3f-1c61-4e85-9f77-c8a48c0d2503",
   "metadata": {},
   "outputs": [],
   "source": [
    "def sum(*arg):\n",
    "    '''This function joins lists and removes all copys of elements, so elements only occur and only occur once if it occurs an odd number\n",
    "        of times on the joined list. Note, to work as the sum of F_2 P, the inputted lists must be reduced (no even multi-occurences of terms)'''\n",
    "    sum_candidate=[item for sublist in [*arg] for item in sublist] #lists joined\n",
    "    sum_done=[w for w in set(sum_candidate) if sum_candidate.count(w)%2==1] #only 1 copy of each string with an odd occurence is included in the product\n",
    "    return sum_done"
   ]
  },
  {
   "cell_type": "markdown",
   "id": "7e4bfeac-4259-4565-b053-5852628d02b9",
   "metadata": {},
   "source": [
    "Now, we define a product function"
   ]
  },
  {
   "cell_type": "code",
   "execution_count": 25,
   "id": "17e28277-a072-4747-b5d6-b5a2d6d2bf34",
   "metadata": {},
   "outputs": [],
   "source": [
    "import itertools\n",
    "def product(w1,w2,n=10):\n",
    "    '''This function takes two lists of elements in P - corresponding to elements in F_2 P and outputs the list corresponding to their product'''\n",
    "    cart_product=[''.join(word) for word in itertools.product(w1, w2)] # Cartesian product generated\n",
    "    reduced_product=[find_equal(word,B[n]) for word in cart_product] # Every string reduced to unique form in B[n] - obs default n is 10\n",
    "    true_product=[w for w in set(reduced_product) if reduced_product.count(w)%2==1]# Reducing mod 2\n",
    "    if 'problem' in reduced_product: #Important warning if not all elements have been successfully reduced\n",
    "        print('NOTE: problem in finding equals')\n",
    "    return true_product"
   ]
  },
  {
   "cell_type": "markdown",
   "id": "bee909e5-9a74-4de0-97af-426ee417b701",
   "metadata": {
    "jp-MarkdownHeadingCollapsed": true
   },
   "source": [
    "### Translation function"
   ]
  },
  {
   "cell_type": "code",
   "execution_count": 27,
   "id": "95a39be7-f71d-4309-b013-753b48851970",
   "metadata": {},
   "outputs": [],
   "source": [
    "def translate(lst,n=5,alpha=True):\n",
    "    '''Function that translates a list of strings representing elements of P to the integers that SAT has as input/output and vice versa.\n",
    "    n denotes which ball SAT is operating within. alpha=True signifies that we have focus on integers btw 1 and |B(n)| \n",
    "    and alpha=False signifies a focus on integers btw |B(n)|+1 and 2|B(n)| corresponding to the elements alpha and beta respectively in the thesis section on translation.\n",
    "    This function uses the lists B[n]'''\n",
    "\n",
    "    global B\n",
    "    \n",
    "    if type(lst[0])==int: #Translation from integers to strings. Note the code only 'sees' positive input. Reads alpha or beta depending on alpha=True og alpha=False\n",
    "        if alpha==True:\n",
    "            new_lst=[i-1 for i in lst if i>0 and i<len(B[n])+1]\n",
    "        if alpha==False:\n",
    "            new_lst=[i-len(B[n])-1 for i in lst if i>len(B[n]) and i<2*len(B[n])+1]\n",
    "            \n",
    "        translation=[B[n][i] for i in new_lst]\n",
    "        \n",
    "    if type(lst[0])==str: #Translation from strings to integers. Note it depends on wheter this element should act as alpha or beta (i.e. first or second element in product)\n",
    "        if alpha==True:\n",
    "            translation=[B[n].index(w)+1 for w in lst]\n",
    "        if alpha==False:\n",
    "            translation=[B[n].index(w)+1+len(B[n]) for w in lst]\n",
    "\n",
    "    return translation"
   ]
  },
  {
   "cell_type": "markdown",
   "id": "229a0954-13fe-45b5-a11b-7095c34e2f5b",
   "metadata": {},
   "source": [
    "## Time to play"
   ]
  },
  {
   "cell_type": "markdown",
   "id": "fac09413-c892-48eb-966f-4d15202482b4",
   "metadata": {},
   "source": [
    "Now elements can be added and multiplied"
   ]
  },
  {
   "cell_type": "code",
   "execution_count": 448,
   "id": "ddbfa9b8-773e-4c45-919a-b863c434a495",
   "metadata": {},
   "outputs": [
    {
     "data": {
      "text/plain": [
       "['q', 'wo']"
      ]
     },
     "execution_count": 448,
     "metadata": {},
     "output_type": "execute_result"
    }
   ],
   "source": [
    "sum(['p','q'],[inverse('pq'),'p'])"
   ]
  },
  {
   "cell_type": "code",
   "execution_count": 479,
   "id": "2c26ea84-5435-4276-92d2-d6ecc9ff53f0",
   "metadata": {},
   "outputs": [
    {
     "data": {
      "text/plain": [
       "['pp', 'o', 'pwo', 'qp']"
      ]
     },
     "execution_count": 479,
     "metadata": {},
     "output_type": "execute_result"
    }
   ],
   "source": [
    "product(['p','q'],[inverse('pq'),'p'])"
   ]
  },
  {
   "cell_type": "markdown",
   "id": "8cc66f85-e44f-4300-bbd2-75b0f176ee5b",
   "metadata": {},
   "source": [
    "### Testing counterexample from model with translater"
   ]
  },
  {
   "cell_type": "markdown",
   "id": "b41680a7-ef5c-44fc-ac96-fb3379f4037a",
   "metadata": {},
   "source": [
    "Now, lets see that the counterexample does indeed multiply to 1. First, we import the counterexample from the model.txt file."
   ]
  },
  {
   "cell_type": "code",
   "execution_count": 43,
   "id": "faa3135f-9247-4c68-9496-aaecd3de04c9",
   "metadata": {},
   "outputs": [],
   "source": [
    "g = open(\"model.txt\")\n",
    "model=ast.literal_eval(g.read())"
   ]
  },
  {
   "cell_type": "code",
   "execution_count": 45,
   "id": "918e7520-f725-45ed-ae95-a0def51190d2",
   "metadata": {},
   "outputs": [
    {
     "data": {
      "text/plain": [
       "['']"
      ]
     },
     "execution_count": 45,
     "metadata": {},
     "output_type": "execute_result"
    }
   ],
   "source": [
    "alpha=translate(model,4,True)\n",
    "beta=translate(model,4,False)\n",
    "product(alpha,beta)"
   ]
  },
  {
   "cell_type": "code",
   "execution_count": 485,
   "id": "e69f3f17-2283-41e6-a2b7-da5f1df81335",
   "metadata": {},
   "outputs": [
    {
     "data": {
      "text/plain": [
       "['']"
      ]
     },
     "execution_count": 485,
     "metadata": {},
     "output_type": "execute_result"
    }
   ],
   "source": [
    "product(beta,alpha) #Other order"
   ]
  },
  {
   "cell_type": "code",
   "execution_count": 487,
   "id": "58ceefd2-1c67-428d-ba9f-6ec0d0e9a185",
   "metadata": {},
   "outputs": [
    {
     "name": "stdout",
     "output_type": "stream",
     "text": [
      "['qpq', 'pw', 'qqq', 'qoq', 'wo', 'qpp', 'p', 'qqqp', 'qpw', 'qpwp', 'ppq', 'pp', 'pwp', 'qqo', 'qpqp', 'qow', 'o', 'ow', 'qqp', 'ooqq', 'w']\n",
      "['pqpw', 'pqp', 'pqpq', 'qpq', 'q', 'ppw', 'qoq', 'wppw', 'p', 'qp', 'qpw', 'pp', 'qqo', 'qo', 'oq', 'qow', 'qqpw', 'o', 'www', 'qqp', 'wpp']\n"
     ]
    }
   ],
   "source": [
    "print(alpha)\n",
    "print(beta)"
   ]
  },
  {
   "cell_type": "markdown",
   "id": "ffe9bfc7-5b49-434e-ae49-9493f04eac93",
   "metadata": {},
   "source": [
    "Now we manipulate the lists to print in thesis rapport"
   ]
  },
  {
   "cell_type": "code",
   "execution_count": 41,
   "id": "a565d455-cb28-49cc-8c8b-c729654cd11b",
   "metadata": {},
   "outputs": [
    {
     "name": "stdout",
     "output_type": "stream",
     "text": [
      "p + p^{-1} + q^{-1} + pq^{-1} + q^{-1}p^{-1} + pp + p^{-1}q^{-1} + qpq + qqq + qp^{-1}q + qpp + qpq^{-1} + ppq + pq^{-1}p + qqp^{-1} + qp^{-1}q^{-1} + qqp + qqqp + qpq^{-1}p + qpqp + p^{-1}p^{-1}qq + \n"
     ]
    }
   ],
   "source": [
    "alpha_string=''\n",
    "for w in sorted(alpha,key=len):\n",
    "    w=w.replace('o','p^{-1}')\n",
    "    w=w.replace('w','q^{-1}')\n",
    "    alpha_string=alpha_string+w+' + '\n",
    "print(alpha_string)"
   ]
  },
  {
   "cell_type": "code",
   "execution_count": 42,
   "id": "137f4f74-b651-4448-b680-725a740280eb",
   "metadata": {},
   "outputs": [
    {
     "name": "stdout",
     "output_type": "stream",
     "text": [
      "q + p + p^{-1} + qp + pp + qp^{-1} + p^{-1}q + pqp + qpq + ppq^{-1} + qp^{-1}q + qpq^{-1} + qqp^{-1} + qp^{-1}q^{-1} + q^{-1}q^{-1}q^{-1} + qqp + q^{-1}pp + pqpq^{-1} + pqpq + q^{-1}ppq^{-1} + qqpq^{-1} + \n"
     ]
    }
   ],
   "source": [
    "beta_string=''\n",
    "for w in sorted(beta,key=len):\n",
    "    w=w.replace('o','p^{-1}')\n",
    "    w=w.replace('w','q^{-1}')\n",
    "    beta_string=beta_string+w+' + '\n",
    "print(beta_string)"
   ]
  },
  {
   "cell_type": "markdown",
   "id": "3ae66011-898b-4490-a2ce-a083c08898ea",
   "metadata": {},
   "source": [
    "### Checking Gardams counterexample"
   ]
  },
  {
   "cell_type": "markdown",
   "id": "c509e565-6e72-42b4-beb1-3bbbd10f3923",
   "metadata": {},
   "source": [
    "Gardam defines his counterexample by some intermediate steps"
   ]
  },
  {
   "cell_type": "code",
   "execution_count": 47,
   "id": "90287e0c-d5e7-487d-ae47-b8bdd0e82d90",
   "metadata": {},
   "outputs": [],
   "source": [
    "x_Gardam='pp'\n",
    "y_Gardam='qq'\n",
    "z_Gardam='pqpq'"
   ]
  },
  {
   "cell_type": "code",
   "execution_count": 49,
   "id": "bf71b7fc-cbfb-4871-88ca-09060dcc1ef1",
   "metadata": {},
   "outputs": [],
   "source": [
    "p_Gardam=product(product(['',x_Gardam],['',y_Gardam]),['',inverse(z_Gardam)]) #(1+x)(1+y)(1+z^-1)\n",
    "q_Gardam=sum(product([inverse(x_Gardam)],[inverse(y_Gardam)]),[x_Gardam],product([inverse(y_Gardam)],[z_Gardam]),[z_Gardam])\n",
    "r_Gardam=sum(['',x_Gardam],product([inverse(y_Gardam)],[z_Gardam]),product(product([x_Gardam],[y_Gardam]),[z_Gardam]))\n",
    "s_Gardam=sum([''],product([x_Gardam,inverse(x_Gardam),y_Gardam,inverse(y_Gardam)],[inverse(z_Gardam)]))"
   ]
  },
  {
   "cell_type": "code",
   "execution_count": 51,
   "id": "dc74fa8f-2604-4375-8c4c-51a76c350bba",
   "metadata": {},
   "outputs": [],
   "source": [
    "unit_Gardam=sum(p_Gardam,product(q_Gardam,['p']),product(r_Gardam,['q']),product(s_Gardam,['pq']))"
   ]
  },
  {
   "cell_type": "markdown",
   "id": "5b069056-5e3c-47f3-a083-10de0c209aa8",
   "metadata": {},
   "source": [
    "Now, here is Gardams unit:"
   ]
  },
  {
   "cell_type": "code",
   "execution_count": 53,
   "id": "ef8c865b-b29c-4824-9df6-b0e80c44831b",
   "metadata": {},
   "outputs": [
    {
     "name": "stdout",
     "output_type": "stream",
     "text": [
      "['', 'qowo', 'ppwo', 'ppp', 'qowp', 'wp', 'qo', 'qqpwo', 'qq', 'woqq', 'qqpp', 'oqo', 'wowo', 'qoqp', 'pp', 'pq', 'pwpwp', 'oqq', 'pqowo', 'q', 'ppq']\n"
     ]
    }
   ],
   "source": [
    "print(unit_Gardam)"
   ]
  },
  {
   "cell_type": "code",
   "execution_count": 55,
   "id": "534c01a8-d90f-4782-9fe7-0512cdb0ae53",
   "metadata": {},
   "outputs": [],
   "source": [
    "pp_Gardam=product(product([inverse(x_Gardam)+'o'],p_Gardam),['p']) #Note the '+' in here is a multiplication btw elements of P\n",
    "qq_Gardam=product([inverse(x_Gardam)],q_Gardam) #He has an additive inverse here (-), but it doesn't make sense if the field has charachter 2\n",
    "rr_Gardam=product([inverse(y_Gardam)],r_Gardam) #He has an additive inverse here (-), but it doesn't make sense if the field has charachter 2\n",
    "ss_Gardam=product([inverse(z_Gardam)+'o'],product(s_Gardam,['p'])) #Note the '+' in here is a multiplication btw elements of P"
   ]
  },
  {
   "cell_type": "code",
   "execution_count": 57,
   "id": "d2180e00-e6a2-4610-b423-ca79585ab408",
   "metadata": {},
   "outputs": [],
   "source": [
    "inverse_Gardam=sum(pp_Gardam,product(qq_Gardam,['p']),product(rr_Gardam,['q']),product(ss_Gardam,['pq']))"
   ]
  },
  {
   "cell_type": "markdown",
   "id": "12a9b8ef-3375-4f65-b863-04f22c8504c6",
   "metadata": {},
   "source": [
    "And the inverse"
   ]
  },
  {
   "cell_type": "code",
   "execution_count": 59,
   "id": "b9de8f34-139d-4d70-b409-01960ea3553a",
   "metadata": {},
   "outputs": [
    {
     "name": "stdout",
     "output_type": "stream",
     "text": [
      "['', 'oqpw', 'oqow', 'oqqo', 'wwpq', 'woo', 'oqpq', 'oqqqo', 'oqpwp', 'pwo', 'w', 'oo', 'ww', 'oqoqo', 'p', 'pw', 'pqoo', 'pqpq', 'wppwo', 'wo', 'oq']\n"
     ]
    }
   ],
   "source": [
    "print(inverse_Gardam)"
   ]
  },
  {
   "cell_type": "markdown",
   "id": "5afd4ba4-ad11-487b-8566-ca132f7e907f",
   "metadata": {},
   "source": [
    "And the product (both orders)"
   ]
  },
  {
   "cell_type": "code",
   "execution_count": 61,
   "id": "543d785a-cf80-4ed7-bc46-4d92cd5987e3",
   "metadata": {
    "scrolled": true
   },
   "outputs": [
    {
     "data": {
      "text/plain": [
       "['']"
      ]
     },
     "execution_count": 61,
     "metadata": {},
     "output_type": "execute_result"
    }
   ],
   "source": [
    "product(unit_Gardam,inverse_Gardam)"
   ]
  },
  {
   "cell_type": "code",
   "execution_count": 64,
   "id": "1a694aa4-4cb4-4d83-be1f-465dd2b6b321",
   "metadata": {},
   "outputs": [
    {
     "data": {
      "text/plain": [
       "['']"
      ]
     },
     "execution_count": 64,
     "metadata": {},
     "output_type": "execute_result"
    }
   ],
   "source": [
    "product(inverse_Gardam,unit_Gardam)"
   ]
  },
  {
   "cell_type": "markdown",
   "id": "c21305f1-f583-4c4c-a23a-68a4166b99a3",
   "metadata": {},
   "source": [
    "### Translating Gardams unit into SAT"
   ]
  },
  {
   "cell_type": "markdown",
   "id": "e1ebd454-2387-4999-b4e1-e70f18736e65",
   "metadata": {},
   "source": [
    "Note, due to the way the balls are constructed in the code of 'Generating Balls..', each ball is not a subset of the next. As seen here:"
   ]
  },
  {
   "cell_type": "code",
   "execution_count": 55,
   "id": "fa755df0-af1f-4ae3-ae6f-9dddc5a24216",
   "metadata": {},
   "outputs": [
    {
     "name": "stdout",
     "output_type": "stream",
     "text": [
      "True\n",
      "True\n",
      "True\n",
      "True\n",
      "False\n",
      "False\n",
      "False\n",
      "False\n",
      "False\n",
      "False\n"
     ]
    }
   ],
   "source": [
    "for i in range(len(B)-1):\n",
    "    print(set(B[i]) <= set(B[i+1]))"
   ]
  },
  {
   "cell_type": "markdown",
   "id": "34ada13f-1b2d-4487-8095-0b4c2f15e204",
   "metadata": {},
   "source": [
    "In other words, the representative for each element is not the same in the different balls. The products calculated in the section above here refer to the ball B[10], but when translating into SAT, we need representatives of B[5]. So lets firstly check, if there are any elements in the support of Gardams unit, that is represented by a word, which is not in the list B[5]."
   ]
  },
  {
   "cell_type": "code",
   "execution_count": 57,
   "id": "7bdc7566-abf2-409c-bbbd-1c12bbb0fb58",
   "metadata": {},
   "outputs": [
    {
     "data": {
      "text/plain": [
       "['qqpp', 'wowo', 'qowo', 'pwpwp', 'pqowo', 'oqq', 'woqq', 'ppwo']"
      ]
     },
     "execution_count": 57,
     "metadata": {},
     "output_type": "execute_result"
    }
   ],
   "source": [
    "[w for w in unit_Gardam if w not in B[5]]"
   ]
  },
  {
   "cell_type": "markdown",
   "id": "699573a1-bf0d-426b-b1e8-a19d482061f0",
   "metadata": {},
   "source": [
    "Now the fitting representatives are found and substituted into Gardam's unit"
   ]
  },
  {
   "cell_type": "code",
   "execution_count": 59,
   "id": "fc2dd6b6-ce11-4517-8c9e-999ca881dc78",
   "metadata": {},
   "outputs": [
    {
     "data": {
      "text/plain": [
       "['pwwp', 'qpqp', 'qpwp', 'pqpqp', 'oqowp', 'wwo', 'wwwo', 'wooo']"
      ]
     },
     "execution_count": 59,
     "metadata": {},
     "output_type": "execute_result"
    }
   ],
   "source": [
    "[find_equal(w,B[5]) for w in unit_Gardam if w not in B[5]]"
   ]
  },
  {
   "cell_type": "code",
   "execution_count": 60,
   "id": "0fd9f4a2-a678-4763-ad38-766acd30ffb8",
   "metadata": {},
   "outputs": [],
   "source": [
    "unit_Gardam=[find_equal(w,B[5]) if w not in B[5] else w for w in unit_Gardam]"
   ]
  },
  {
   "cell_type": "markdown",
   "id": "b501a3e2-34b7-49a6-872c-3f199cea97fc",
   "metadata": {},
   "source": [
    "Now, the translate function can be used"
   ]
  },
  {
   "cell_type": "code",
   "execution_count": 62,
   "id": "857eef05-dfcd-48ec-abfb-9cf597629363",
   "metadata": {},
   "outputs": [
    {
     "name": "stdout",
     "output_type": "stream",
     "text": [
      "[1, 84, 89, 93, 64, 5, 143, 67, 3, 83, 20, 118, 31, 66, 68, 49, 80, 56, 26, 58, 61]\n"
     ]
    }
   ],
   "source": [
    "print(translate(unit_Gardam))"
   ]
  },
  {
   "cell_type": "markdown",
   "id": "7c742443-55b7-4f3e-85b8-0ad52db818c2",
   "metadata": {},
   "source": [
    "And this can be put into SAT, so we export a list of clauses of length 1"
   ]
  },
  {
   "cell_type": "code",
   "execution_count": 64,
   "id": "23bd66b4-25da-48fd-870d-3a0e3ffe3fd4",
   "metadata": {},
   "outputs": [],
   "source": [
    "clauses_unit_Gardam=[[w] for w in translate(unit_Gardam)]"
   ]
  },
  {
   "cell_type": "code",
   "execution_count": 65,
   "id": "f8a372d2-7b2a-4400-b893-639bba5f7d5e",
   "metadata": {},
   "outputs": [],
   "source": [
    "with open('clauses_unit_Gardam.txt','w') as h:\n",
    "        h.write(str(clauses_unit_Gardam))"
   ]
  },
  {
   "cell_type": "markdown",
   "id": "eb333a44-5c66-4418-a61c-6057b0d73cde",
   "metadata": {},
   "source": [
    "Same process is done for the inverse"
   ]
  },
  {
   "cell_type": "code",
   "execution_count": 67,
   "id": "0d150a83-65bd-4492-b792-ad2dd80ba1db",
   "metadata": {},
   "outputs": [
    {
     "data": {
      "text/plain": [
       "['oqpq', 'pqpq', 'oqpwp', 'oqoqo']"
      ]
     },
     "execution_count": 67,
     "metadata": {},
     "output_type": "execute_result"
    }
   ],
   "source": [
    "[w for w in inverse_Gardam if w not in B[5]]"
   ]
  },
  {
   "cell_type": "code",
   "execution_count": 68,
   "id": "a55a291d-3c5a-4740-b258-b04b5471fd45",
   "metadata": {},
   "outputs": [
    {
     "data": {
      "text/plain": [
       "['owpw', 'pwpw', 'pqpwo', 'owowo']"
      ]
     },
     "execution_count": 68,
     "metadata": {},
     "output_type": "execute_result"
    }
   ],
   "source": [
    "[find_equal(w,B[5]) for w in inverse_Gardam if w not in B[5]]"
   ]
  },
  {
   "cell_type": "code",
   "execution_count": 69,
   "id": "e19f2a29-2cb4-4665-8872-98afcfd872c0",
   "metadata": {},
   "outputs": [],
   "source": [
    "inverse_Gardam=[find_equal(w,B[5]) if w not in B[5] else w for w in inverse_Gardam]"
   ]
  },
  {
   "cell_type": "code",
   "execution_count": 70,
   "id": "520681d4-93ed-409b-a2d9-24332cabb219",
   "metadata": {},
   "outputs": [
    {
     "name": "stdout",
     "output_type": "stream",
     "text": [
      "[148, 259, 191, 294, 239, 279, 185, 219, 225, 201, 255, 286, 190, 288, 238, 283, 172, 237, 174, 222, 186]\n"
     ]
    }
   ],
   "source": [
    "print(translate(inverse_Gardam,alpha=False))"
   ]
  },
  {
   "cell_type": "code",
   "execution_count": 71,
   "id": "80d84c59-7e4d-4b53-bef1-3ac87fee7706",
   "metadata": {},
   "outputs": [],
   "source": [
    "clauses_inverse_Gardam=[[w] for w in translate(inverse_Gardam,alpha=False)]"
   ]
  },
  {
   "cell_type": "code",
   "execution_count": 72,
   "id": "025c3381-3bcb-4e91-b79c-00252fb9001a",
   "metadata": {},
   "outputs": [],
   "source": [
    "with open('clauses_inverse_Gardam.txt','w') as h2:\n",
    "        h2.write(str(clauses_inverse_Gardam))"
   ]
  },
  {
   "cell_type": "markdown",
   "id": "04012969-ffc1-4573-ae21-c622373d800a",
   "metadata": {},
   "source": [
    "### Relation btw. counterexamples"
   ]
  },
  {
   "cell_type": "markdown",
   "id": "362497ca-cfa8-4c23-9a62-b237a2b80212",
   "metadata": {},
   "source": [
    "These are some simple investigations on the different counterexamples - especially, we are looking for a link between the counterexamples."
   ]
  },
  {
   "cell_type": "code",
   "execution_count": 183,
   "id": "38aefeb4-278b-42c2-b1b1-9eaedaca79a4",
   "metadata": {},
   "outputs": [
    {
     "name": "stdout",
     "output_type": "stream",
     "text": [
      "['qpq', 'pw', 'qqq', 'qoq', 'wo', 'qpp', 'p', 'qqqp', 'qpw', 'qpwp', 'ppq', 'pp', 'pwp', 'qqo', 'qpqp', 'qow', 'o', 'ow', 'qqp', 'ooqq', 'w']\n",
      "['', 'qoqp', 'pwwp', 'qpqp', 'qpwp', 'qowp', 'qq', 'pp', 'pqpqp', 'ppp', 'oqowp', 'wwo', 'q', 'ppq', 'oqo', 'qqpwo', 'qo', 'wwwo', 'wp', 'wooo', 'pq']\n"
     ]
    }
   ],
   "source": [
    "print(alpha)\n",
    "print(unit_Gardam)"
   ]
  },
  {
   "cell_type": "code",
   "execution_count": 185,
   "id": "41a0c045-8330-42a4-8b8b-8c1ef3a7e0cb",
   "metadata": {},
   "outputs": [
    {
     "name": "stdout",
     "output_type": "stream",
     "text": [
      "21\n",
      "21\n"
     ]
    }
   ],
   "source": [
    "print(len(alpha))\n",
    "print(len(unit_Gardam))"
   ]
  },
  {
   "cell_type": "markdown",
   "id": "0469ebb2-9001-455c-a7f8-4a3ce69e82db",
   "metadata": {},
   "source": [
    "Relatively naive search: See if the counterexample occurs by multiplying alpha/beta by the inverse of any element in the support. Note both right/left multiplication should be tested."
   ]
  },
  {
   "cell_type": "code",
   "execution_count": 168,
   "id": "623ee2ec-9ec1-49a7-aa4b-17c520962792",
   "metadata": {
    "scrolled": true
   },
   "outputs": [
    {
     "name": "stdout",
     "output_type": "stream",
     "text": [
      "qpq False False\n",
      "pw False False\n",
      "qqq False False\n",
      "qoq False False\n",
      "wo False False\n",
      "qpp False False\n",
      "p False False\n",
      "qqqp False False\n",
      "qpw False False\n",
      "qpwp False False\n",
      "ppq False False\n",
      "pp False False\n",
      "pwp False False\n",
      "qqo False False\n",
      "qpqp False False\n",
      "qow False False\n",
      "o False False\n",
      "ow False False\n",
      "qqp False False\n",
      "ooqq False False\n",
      "w False False\n",
      "pqpw False False\n",
      "pqp False False\n",
      "pqpq False False\n",
      "qpq False False\n",
      "q False False\n",
      "ppw False False\n",
      "qoq False False\n",
      "wppw False False\n",
      "p False False\n",
      "qp False False\n",
      "qpw False False\n",
      "pp False False\n",
      "qqo False False\n",
      "qo False False\n",
      "oq False False\n",
      "qow False False\n",
      "qqpw False False\n",
      "o False False\n",
      "www False False\n",
      "qqp False False\n",
      "wpp False False\n"
     ]
    }
   ],
   "source": [
    "for w in alpha:\n",
    "    test1=sorted(product([inverse(w)],alpha))\n",
    "    test2=sorted(product(alpha,[inverse(w)]))\n",
    "    value1=sorted(unit_Gardam)==test1\n",
    "    value2=sorted(unit_Gardam)==test2\n",
    "    if value1 or value2:\n",
    "        print('------YES-------')\n",
    "    print(w,value1,value2)\n",
    "\n",
    "for w in beta:\n",
    "    test1=sorted(product([inverse(w)],beta))\n",
    "    test2=sorted(product(beta,[inverse(w)]))\n",
    "    value1=sorted(unit_Gardam)==test1\n",
    "    value2=sorted(unit_Gardam)==test2\n",
    "    if value1 or value2:\n",
    "        print('------YES-------')\n",
    "    print(w,value1,value2)"
   ]
  },
  {
   "cell_type": "markdown",
   "id": "4a840781-a1f6-487a-a4b9-2356bc88b56c",
   "metadata": {},
   "source": [
    "Okay, we see that the element is not immediately in relation to Gardams inverse. But we try the same test for conjugations of Gardams inverse by words of length 1."
   ]
  },
  {
   "cell_type": "code",
   "execution_count": 177,
   "id": "cf6fda1f-525f-4a8b-baa9-a65de4e061ea",
   "metadata": {},
   "outputs": [
    {
     "name": "stdout",
     "output_type": "stream",
     "text": [
      "[['', 'oqow', 'pp', 'ppp', 'pppqo', 'ppq', 'ppqo', 'pqo', 'pqoo', 'pqoq', 'pqow', 'pqpq', 'pw', 'pwoooo', 'qoq', 'qow', 'qqo', 'qqpwoo', 'woqqooo', 'ww', 'wwpp'], ['', 'oq', 'oqo', 'oqow', 'oqp', 'owpp', 'pp', 'ppp', 'pqoq', 'pqow', 'pqpq', 'pw', 'qoq', 'qow', 'qp', 'qpp', 'qqo', 'qqow', 'ww', 'wwpp', 'www'], ['', 'oq', 'oqo', 'oqow', 'oqp', 'owpp', 'pp', 'ppp', 'pqoq', 'pqow', 'pqpq', 'pw', 'qoq', 'qow', 'qp', 'qpp', 'qqo', 'qqow', 'ww', 'wwpp', 'www'], ['', 'oqow', 'pp', 'ppp', 'pppqo', 'ppq', 'ppqo', 'pqo', 'pqoo', 'pqoq', 'pqow', 'pqpq', 'pw', 'pwoooo', 'qoq', 'qow', 'qqo', 'qqpwoo', 'woqqooo', 'ww', 'wwpp'], ['', 'oo', 'ooqpw', 'oq', 'oqpq', 'owpp', 'owpq', 'owwo', 'pqpq', 'pw', 'pwpq', 'q', 'qoq', 'qoqoqpw', 'qoqow', 'qp', 'qpp', 'qpwoq', 'qq', 'qqow', 'wowoqpq'], ['', 'oo', 'oq', 'oqpq', 'oqqooq', 'owpq', 'owwo', 'pqpq', 'pwpq', 'q', 'qoqow', 'qpp', 'qpwoq', 'qq', 'wowowpq', 'wpqoo', 'wpqowoq', 'wpqq', 'wwoqqq', 'wwpq', 'wwwoq'], ['', 'oo', 'oq', 'oqpq', 'oqqooq', 'owpq', 'owwo', 'pqpq', 'pwpq', 'q', 'qoqow', 'qpp', 'qpwoq', 'qq', 'wowowpq', 'wpqoo', 'wpqowoq', 'wpqq', 'wwoqqq', 'wwpq', 'wwwoq'], ['', 'oo', 'ooqpw', 'oq', 'oqpq', 'owpp', 'owpq', 'owwo', 'pqpq', 'pw', 'pwpq', 'q', 'qoq', 'qoqoqpw', 'qoqow', 'qp', 'qpp', 'qpwoq', 'qq', 'qqow', 'wowoqpq']]\n"
     ]
    }
   ],
   "source": [
    "conjugations=[]\n",
    "for w in ['p','o','q','w']:\n",
    "    conjugations.append(sorted(product(product([w],unit_Gardam),[inverse(w)])))\n",
    "    conjugations.append(sorted(product(product([inverse(w)],unit_Gardam),[w])))\n",
    "print(conjugations)"
   ]
  },
  {
   "cell_type": "markdown",
   "id": "a392cbd0-4ce1-4988-a897-665021c25593",
   "metadata": {},
   "source": [
    "Looking at the lengths of words in Gardams unit + inverse and the unit found in the other script + inverse"
   ]
  },
  {
   "cell_type": "code",
   "execution_count": 204,
   "id": "ea4fa98a-0655-4f0a-aa37-72289d3724bd",
   "metadata": {},
   "outputs": [
    {
     "name": "stdout",
     "output_type": "stream",
     "text": [
      "[1, 1, 1, 2, 2, 2, 2, 3, 3, 3, 3, 3, 3, 3, 3, 3, 3, 4, 4, 4, 4]\n",
      "[1, 1, 1, 2, 2, 2, 2, 3, 3, 3, 3, 3, 3, 3, 3, 3, 3, 4, 4, 4, 4]\n",
      "[0, 1, 2, 2, 2, 2, 2, 3, 3, 3, 3, 4, 4, 4, 4, 4, 4, 4, 5, 5, 5]\n",
      "[0, 1, 1, 2, 2, 2, 2, 2, 3, 3, 4, 4, 4, 4, 4, 4, 4, 5, 5, 5, 5]\n"
     ]
    }
   ],
   "source": [
    "candidates=[alpha,beta,unit_Gardam,inverse_Gardam]\n",
    "for elem in candidates:\n",
    "    print(sorted([len(w) for w in elem]))"
   ]
  },
  {
   "cell_type": "markdown",
   "id": "5031bc1f-6de4-43bc-baff-eaeea669dd30",
   "metadata": {},
   "source": [
    "Seeing if Gardam's unit can be translated into an element with support within B(4)"
   ]
  },
  {
   "cell_type": "code",
   "execution_count": 226,
   "id": "e12a6c15-5cae-48a8-ae7d-377f2bbcc3f9",
   "metadata": {
    "scrolled": true
   },
   "outputs": [
    {
     "name": "stdout",
     "output_type": "stream",
     "text": [
      "NOTE: problem in finding equals\n",
      "NOTE: problem in finding equals\n",
      "NOTE: problem in finding equals\n",
      "NOTE: problem in finding equals\n",
      "NOTE: problem in finding equals\n",
      "NOTE: problem in finding equals\n",
      "NOTE: problem in finding equals\n",
      "NOTE: problem in finding equals\n",
      "o oqq\n",
      "o oq\n",
      "o p\n",
      "o pq\n",
      "NOTE: problem in finding equals\n",
      "NOTE: problem in finding equals\n",
      "NOTE: problem in finding equals\n",
      "NOTE: problem in finding equals\n",
      "NOTE: problem in finding equals\n",
      "NOTE: problem in finding equals\n",
      "NOTE: problem in finding equals\n",
      "NOTE: problem in finding equals\n",
      "NOTE: problem in finding equals\n",
      "NOTE: problem in finding equals\n",
      "NOTE: problem in finding equals\n",
      "NOTE: problem in finding equals\n",
      "NOTE: problem in finding equals\n",
      "NOTE: problem in finding equals\n",
      "NOTE: problem in finding equals\n",
      "NOTE: problem in finding equals\n",
      "NOTE: problem in finding equals\n",
      "NOTE: problem in finding equals\n",
      "NOTE: problem in finding equals\n",
      "NOTE: problem in finding equals\n",
      "NOTE: problem in finding equals\n",
      "NOTE: problem in finding equals\n",
      "NOTE: problem in finding equals\n",
      "NOTE: problem in finding equals\n",
      "NOTE: problem in finding equals\n",
      "NOTE: problem in finding equals\n",
      "NOTE: problem in finding equals\n",
      "NOTE: problem in finding equals\n",
      "NOTE: problem in finding equals\n",
      "NOTE: problem in finding equals\n",
      "NOTE: problem in finding equals\n",
      "NOTE: problem in finding equals\n",
      "NOTE: problem in finding equals\n",
      "NOTE: problem in finding equals\n",
      "NOTE: problem in finding equals\n",
      "NOTE: problem in finding equals\n",
      "NOTE: problem in finding equals\n",
      "NOTE: problem in finding equals\n",
      "NOTE: problem in finding equals\n",
      "NOTE: problem in finding equals\n",
      "NOTE: problem in finding equals\n",
      "NOTE: problem in finding equals\n",
      "NOTE: problem in finding equals\n",
      "NOTE: problem in finding equals\n",
      "NOTE: problem in finding equals\n",
      "NOTE: problem in finding equals\n",
      "NOTE: problem in finding equals\n",
      "NOTE: problem in finding equals\n",
      "NOTE: problem in finding equals\n",
      "NOTE: problem in finding equals\n",
      "NOTE: problem in finding equals\n",
      "NOTE: problem in finding equals\n",
      "NOTE: problem in finding equals\n",
      "NOTE: problem in finding equals\n",
      "NOTE: problem in finding equals\n",
      "NOTE: problem in finding equals\n",
      "NOTE: problem in finding equals\n",
      "NOTE: problem in finding equals\n",
      "NOTE: problem in finding equals\n",
      "NOTE: problem in finding equals\n",
      "NOTE: problem in finding equals\n",
      "NOTE: problem in finding equals\n",
      "NOTE: problem in finding equals\n",
      "NOTE: problem in finding equals\n",
      "NOTE: problem in finding equals\n",
      "NOTE: problem in finding equals\n",
      "NOTE: problem in finding equals\n",
      "NOTE: problem in finding equals\n",
      "NOTE: problem in finding equals\n",
      "NOTE: problem in finding equals\n",
      "NOTE: problem in finding equals\n",
      "NOTE: problem in finding equals\n",
      "NOTE: problem in finding equals\n",
      "NOTE: problem in finding equals\n",
      "NOTE: problem in finding equals\n",
      "NOTE: problem in finding equals\n",
      "NOTE: problem in finding equals\n"
     ]
    }
   ],
   "source": [
    "for w1 in B[3]:\n",
    "    for w2 in B[3]:\n",
    "        elem=product(product([w1],unit_Gardam),[w2])\n",
    "        max_length=max([len(w) for w in elem])\n",
    "        if max_length<5:\n",
    "            print(w1,w2)"
   ]
  },
  {
   "cell_type": "code",
   "execution_count": 286,
   "id": "4a348c5b-3c79-40c2-84c2-e7b18281fb05",
   "metadata": {},
   "outputs": [
    {
     "name": "stdout",
     "output_type": "stream",
     "text": [
      "[['', 'oo', 'pw', 'wo', 'oq', 'qq', 'ooo', 'qqq', 'owo', 'qpq', 'wwp', 'wpq', 'woo', 'pwo', 'pwpq', 'owwo', 'wwpq', 'pqpq', 'owpq', 'pqoo', 'oqpq'], ['o', 'q', 'w', 'qp', 'qq', 'wp', 'pq', 'oqp', 'wpp', 'owo', 'ppp', 'oqo', 'wwp', 'qoq', 'owp', 'pww', 'qpp', 'pqoq', 'pqpq', 'wwpp', 'owpp'], ['', 'qp', 'ww', 'pw', 'pp', 'oq', 'oqp', 'ppp', 'oqo', 'qqo', 'qow', 'qoq', 'www', 'qpp', 'pqoq', 'oqow', 'pqpq', 'pqow', 'wwpp', 'qqow', 'owpp'], ['p', 'w', 'q', 'qo', 'ww', 'ow', 'wo', 'oqq', 'ooo', 'owo', 'ppq', 'oqo', 'pqo', 'qpq', 'qqo', 'woo', 'pwo', 'owwo', 'pqpq', 'pqoo', 'oqpq']]\n"
     ]
    }
   ],
   "source": [
    "interesting_objects=[]\n",
    "w1='o'\n",
    "for w2 in ['oqq','oq','p','pq']:\n",
    "     interesting_objects.append(sorted(product(product([w1],unit_Gardam),[w2]),key=len))\n",
    "print(interesting_objects)"
   ]
  },
  {
   "cell_type": "code",
   "execution_count": 284,
   "id": "7f031cb4-0fee-4c18-b6e1-781a9fcbf7c4",
   "metadata": {},
   "outputs": [
    {
     "name": "stdout",
     "output_type": "stream",
     "text": [
      "5\n",
      "4\n",
      "5\n",
      "4\n"
     ]
    }
   ],
   "source": [
    "interesting_objects_inverses=[]\n",
    "w1='p'\n",
    "for w2 in ['oqq','oq','p','pq']:\n",
    "     interesting_objects_inverses.append(sorted(product(product([inverse(w2)],inverse_Gardam),[w1]),key=len))\n",
    "for lst in interesting_objects_inverses:\n",
    "    print(max([len(w) for w in lst]))"
   ]
  },
  {
   "cell_type": "code",
   "execution_count": 255,
   "id": "e0abf071-23e2-48f3-8d90-178ae0417047",
   "metadata": {},
   "outputs": [
    {
     "name": "stdout",
     "output_type": "stream",
     "text": [
      "['']\n",
      "['']\n",
      "['']\n",
      "['']\n"
     ]
    }
   ],
   "source": [
    "for i in range(4):\n",
    "    print(product(interesting_objects[i],interesting_objects_inverses[i]))"
   ]
  },
  {
   "cell_type": "code",
   "execution_count": 261,
   "id": "b85bfd10-f1ae-4a59-986d-53156147b8d7",
   "metadata": {},
   "outputs": [
    {
     "name": "stdout",
     "output_type": "stream",
     "text": [
      "['', 'o', 'oqo', 'pp', 'ppwo', 'ppwww', 'pq', 'pqo', 'q', 'qo', 'qoq', 'qoqp', 'woowp', 'woq', 'woqp', 'woqq', 'wowo', 'wp', 'wpqp', 'ww', 'wwpp']\n",
      "['ooo', 'oq', 'oqo', 'oqp', 'oqq', 'oqqo', 'ow', 'owo', 'owp', 'p', 'q', 'qo', 'qpp', 'qpq', 'qpqo', 'qq', 'qqo', 'w', 'wowo', 'wpp', 'wppp']\n",
      "['', 'oo', 'ooqp', 'ow', 'owo', 'owp', 'owwo', 'owwoo', 'p', 'qo', 'qowo', 'qpq', 'qpqo', 'qpw', 'qpwo', 'qq', 'qqqp', 'qqqpp', 'w', 'wowo', 'wp']\n",
      "['o', 'oqo', 'owo', 'ppp', 'ppq', 'ppqo', 'pq', 'pqo', 'pw', 'pwo', 'pww', 'q', 'qoq', 'qoqp', 'qqpp', 'w', 'woo', 'wowo', 'wp', 'ww', 'wwp']\n"
     ]
    }
   ],
   "source": [
    "for i in range(4):\n",
    "    print(interesting_objects_inverses[i])"
   ]
  },
  {
   "cell_type": "code",
   "execution_count": 288,
   "id": "59a56970-7dfe-499d-9962-dd75a1c030e8",
   "metadata": {},
   "outputs": [],
   "source": [
    "vio=[interesting_objects[1],interesting_objects[3]]\n",
    "vio_inverse=[interesting_objects_inverses[1],interesting_objects_inverses[3]]"
   ]
  },
  {
   "cell_type": "code",
   "execution_count": 290,
   "id": "cf55bd3e-9af7-453d-86ee-e73027fc7448",
   "metadata": {},
   "outputs": [
    {
     "name": "stdout",
     "output_type": "stream",
     "text": [
      "['']\n",
      "4\n",
      "4\n",
      "['o', 'q', 'w', 'qp', 'qq', 'wp', 'pq', 'oqp', 'wpp', 'owo', 'ppp', 'oqo', 'wwp', 'qoq', 'owp', 'pww', 'qpp', 'pqoq', 'pqpq', 'wwpp', 'owpp']\n",
      "['p', 'w', 'q', 'qo', 'ow', 'oq', 'qq', 'oqp', 'oqq', 'ooo', 'wpp', 'owo', 'oqo', 'qpq', 'qqo', 'owp', 'qpp', 'oqqo', 'wppp', 'wowo', 'qpqo']\n",
      "['']\n",
      "4\n",
      "4\n",
      "['p', 'w', 'q', 'qo', 'ww', 'ow', 'wo', 'oqq', 'ooo', 'owo', 'ppq', 'oqo', 'pqo', 'qpq', 'qqo', 'woo', 'pwo', 'owwo', 'pqpq', 'pqoo', 'oqpq']\n",
      "['o', 'q', 'w', 'ww', 'pw', 'wp', 'pq', 'owo', 'ppq', 'ppp', 'oqo', 'pqo', 'wwp', 'woo', 'qoq', 'pww', 'pwo', 'qoqp', 'qqpp', 'wowo', 'ppqo']\n"
     ]
    }
   ],
   "source": [
    "for i in range(2):\n",
    "    print(product(vio[i],vio_inverse[i]))\n",
    "    print(max([len(w) for w in vio[i]]))\n",
    "    print(max([len(w) for w in vio_inverse[i]]))\n",
    "    print(vio[i])\n",
    "    print(vio_inverse[i])"
   ]
  },
  {
   "cell_type": "markdown",
   "id": "f2de5abc-149d-492b-8de6-6dc73fc97a87",
   "metadata": {},
   "source": [
    "Lengths of words in these two new solutions + the counterexample found by SAT"
   ]
  },
  {
   "cell_type": "code",
   "execution_count": 339,
   "id": "282a08d1-f2ce-425b-9bc1-c83f3562a890",
   "metadata": {},
   "outputs": [
    {
     "name": "stdout",
     "output_type": "stream",
     "text": [
      "[1, 1, 1, 2, 2, 2, 2, 3, 3, 3, 3, 3, 3, 3, 3, 3, 3, 4, 4, 4, 4]\n",
      "[1, 1, 1, 2, 2, 2, 2, 3, 3, 3, 3, 3, 3, 3, 3, 3, 3, 4, 4, 4, 4]\n",
      "[1, 1, 1, 2, 2, 2, 2, 3, 3, 3, 3, 3, 3, 3, 3, 3, 3, 4, 4, 4, 4]\n",
      "[1, 1, 1, 2, 2, 2, 2, 3, 3, 3, 3, 3, 3, 3, 3, 3, 3, 4, 4, 4, 4]\n",
      "[1, 1, 1, 2, 2, 2, 2, 3, 3, 3, 3, 3, 3, 3, 3, 3, 3, 4, 4, 4, 4]\n",
      "[1, 1, 1, 2, 2, 2, 2, 3, 3, 3, 3, 3, 3, 3, 3, 3, 3, 4, 4, 4, 4]\n"
     ]
    }
   ],
   "source": [
    "candidates=[alpha,beta,vio[0],vio_inverse[0],vio[1],vio_inverse[1]]\n",
    "for elem in candidates:\n",
    "    print(sorted([len(w) for w in elem]))"
   ]
  },
  {
   "cell_type": "code",
   "execution_count": null,
   "id": "93b12637-fb90-4a1f-a267-331d354d0c57",
   "metadata": {},
   "outputs": [],
   "source": []
  }
 ],
 "metadata": {
  "kernelspec": {
   "display_name": "Python [conda env:base] *",
   "language": "python",
   "name": "conda-base-py"
  },
  "language_info": {
   "codemirror_mode": {
    "name": "ipython",
    "version": 3
   },
   "file_extension": ".py",
   "mimetype": "text/x-python",
   "name": "python",
   "nbconvert_exporter": "python",
   "pygments_lexer": "ipython3",
   "version": "3.12.7"
  }
 },
 "nbformat": 4,
 "nbformat_minor": 5
}
