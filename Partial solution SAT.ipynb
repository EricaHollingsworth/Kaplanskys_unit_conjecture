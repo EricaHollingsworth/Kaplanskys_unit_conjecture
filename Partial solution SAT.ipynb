{
 "cells": [
  {
   "cell_type": "markdown",
   "id": "2308841e-1a1c-4cb8-b754-550fba319ad8",
   "metadata": {},
   "source": [
    "### 1 Readying Clauses"
   ]
  },
  {
   "cell_type": "markdown",
   "id": "50801ded-31fa-4b52-830c-bcb1dbbf8c5b",
   "metadata": {},
   "source": [
    "Firstly we specify n, which for the partial solution test is 5."
   ]
  },
  {
   "cell_type": "code",
   "execution_count": 3,
   "id": "dddb6907-6514-4cdc-9ea1-9e50cc180ac8",
   "metadata": {},
   "outputs": [],
   "source": [
    "n=5\n",
    "round_balls=False"
   ]
  },
  {
   "cell_type": "markdown",
   "id": "f7003fe9-f5d3-40b0-855c-da1cf6c54d76",
   "metadata": {},
   "source": [
    "#### Importing Clauses and Gardams unit"
   ]
  },
  {
   "cell_type": "code",
   "execution_count": 5,
   "id": "f8649134-457b-48d8-a8f2-0820573b8d5a",
   "metadata": {},
   "outputs": [],
   "source": [
    "import ast #helps to change string into list below"
   ]
  },
  {
   "cell_type": "code",
   "execution_count": 6,
   "id": "4ee4299b-cbd7-4581-b67e-edc44daf4142",
   "metadata": {},
   "outputs": [],
   "source": [
    "if not round_balls:\n",
    "    f = open(f\"clauses_{n}.txt\",\"r\")\n",
    "    clauses=ast.literal_eval(f.read())\n",
    "if round_balls:\n",
    "    f = open(f\"clauses_round_{n}.txt\",\"r\")\n",
    "    clauses=ast.literal_eval(f.read())"
   ]
  },
  {
   "cell_type": "code",
   "execution_count": 7,
   "id": "10eed192-9f27-41c3-9473-4d6ebe2de26b",
   "metadata": {},
   "outputs": [
    {
     "data": {
      "text/plain": [
       "144873"
      ]
     },
     "execution_count": 7,
     "metadata": {},
     "output_type": "execute_result"
    }
   ],
   "source": [
    "len(clauses)"
   ]
  },
  {
   "cell_type": "code",
   "execution_count": 8,
   "id": "62f31eb1-c6f9-4794-9b74-ee0e922750b4",
   "metadata": {},
   "outputs": [],
   "source": [
    "g = open(\"clauses_unit_Gardam.txt\",\"r\")\n",
    "clauses_unit_Gardam=ast.literal_eval(g.read())"
   ]
  },
  {
   "cell_type": "code",
   "execution_count": 9,
   "id": "038c9c28-ad44-47db-b829-25d7cf293a5f",
   "metadata": {},
   "outputs": [
    {
     "name": "stdout",
     "output_type": "stream",
     "text": [
      "[[1], [5], [93], [84], [67], [143], [89], [64], [3], [118], [20], [83], [68], [31], [49], [66], [56], [61], [58], [80], [26]]\n"
     ]
    }
   ],
   "source": [
    "print(clauses_unit_Gardam)"
   ]
  },
  {
   "cell_type": "code",
   "execution_count": 58,
   "id": "acfe5a67-8d27-4fd2-b42d-56470d8bef15",
   "metadata": {},
   "outputs": [],
   "source": [
    "h = open(\"clauses_inverse_Gardam.txt\",\"r\")\n",
    "clauses_inverse_Gardam=ast.literal_eval(h.read())"
   ]
  },
  {
   "cell_type": "markdown",
   "id": "fa151781-33b0-4591-94cd-ea0db2199ab7",
   "metadata": {},
   "source": [
    "### 2 starting SAT - all clauses added"
   ]
  },
  {
   "cell_type": "markdown",
   "id": "8b228016-dccd-4dd3-83a4-fa177acc3c41",
   "metadata": {},
   "source": [
    "In the following line I import a solver. Note that at the moment Minisat22 is chosen as Solver, but that this can be changed without changing anything else in the document - syntax seems to be consistent across solvers"
   ]
  },
  {
   "cell_type": "code",
   "execution_count": 12,
   "id": "dad0785c-aefb-406d-a798-b031a5264080",
   "metadata": {},
   "outputs": [],
   "source": [
    "from pysat.solvers import Glucose3 as Solver"
   ]
  },
  {
   "cell_type": "code",
   "execution_count": 13,
   "id": "3bcd6437-1f56-4f74-9cee-8910b5e35aba",
   "metadata": {},
   "outputs": [],
   "source": [
    "s=Solver()\n",
    "s.append_formula(clauses)\n",
    "s.append_formula(clauses_unit_Gardam)"
   ]
  },
  {
   "cell_type": "code",
   "execution_count": 14,
   "id": "2ee00129-c6ce-4089-a773-841ccd3382b6",
   "metadata": {},
   "outputs": [],
   "source": [
    "import time"
   ]
  },
  {
   "cell_type": "code",
   "execution_count": 15,
   "id": "edcf742c-6617-43ce-8612-661d23961d46",
   "metadata": {},
   "outputs": [
    {
     "name": "stdout",
     "output_type": "stream",
     "text": [
      "True\n",
      "4639.355983018875\n"
     ]
    }
   ],
   "source": [
    "time0=time.time()\n",
    "value=s.solve()\n",
    "time_spent=time.time()-time0\n",
    "print(value)\n",
    "print(time_spent)"
   ]
  },
  {
   "cell_type": "code",
   "execution_count": 29,
   "id": "827074d0-d6c4-4c2c-9eda-13842f731c2c",
   "metadata": {},
   "outputs": [],
   "source": [
    "if value==False:\n",
    "    print(s.get_core())\n",
    "else:\n",
    "    model=s.get_model()\n",
    "    [i for i in model if i>0]"
   ]
  },
  {
   "cell_type": "code",
   "execution_count": 33,
   "id": "da6d7813-ba5a-4d1f-bf5f-28500d5f372a",
   "metadata": {},
   "outputs": [
    {
     "name": "stdout",
     "output_type": "stream",
     "text": [
      "[1, 3, 5, 20, 26, 31, 49, 56, 58, 61, 64, 66, 67, 68, 80, 83, 84, 89, 93, 118, 143]\n"
     ]
    }
   ],
   "source": [
    "print([i for i in model if i>0 and i<148])"
   ]
  },
  {
   "cell_type": "code",
   "execution_count": 37,
   "id": "50c2b5eb-9b4c-4999-afdf-1172a6f98500",
   "metadata": {},
   "outputs": [
    {
     "name": "stdout",
     "output_type": "stream",
     "text": [
      "[148, 172, 174, 185, 186, 190, 191, 201, 219, 222, 225, 237, 238, 239, 255, 259, 279, 283, 286, 288, 294]\n"
     ]
    }
   ],
   "source": [
    "print([i for i in model if i>147 and i<2*147+1])"
   ]
  },
  {
   "cell_type": "code",
   "execution_count": 42,
   "id": "145ef0c2-abf9-4f91-92be-e5a86d231b55",
   "metadata": {},
   "outputs": [
    {
     "data": {
      "text/plain": [
       "77.32259971698126"
      ]
     },
     "execution_count": 42,
     "metadata": {},
     "output_type": "execute_result"
    }
   ],
   "source": [
    "time_spent/60 #in minutes"
   ]
  },
  {
   "cell_type": "code",
   "execution_count": null,
   "id": "60dfaac6-c433-4d82-9dd4-e0a0b9d41df2",
   "metadata": {},
   "outputs": [],
   "source": []
  },
  {
   "cell_type": "markdown",
   "id": "ea7985a2-800e-448b-9456-cdfd6850fe4b",
   "metadata": {},
   "source": [
    "Seeing that SAT finds the same inve"
   ]
  },
  {
   "cell_type": "code",
   "execution_count": 66,
   "id": "6516dbbf-b84c-4b54-ad9b-76a2b2b33550",
   "metadata": {},
   "outputs": [
    {
     "name": "stdout",
     "output_type": "stream",
     "text": [
      "[148, 172, 174, 185, 186, 190, 191, 201, 219, 222, 225, 237, 238, 239, 255, 259, 279, 283, 286, 288, 294]\n"
     ]
    }
   ],
   "source": [
    "print(sorted([w[0] for w in clauses_inverse_Gardam]))"
   ]
  },
  {
   "cell_type": "code",
   "execution_count": 68,
   "id": "cd17f961-09ea-4cf7-b27d-03010f0e113a",
   "metadata": {},
   "outputs": [
    {
     "data": {
      "text/plain": [
       "True"
      ]
     },
     "execution_count": 68,
     "metadata": {},
     "output_type": "execute_result"
    }
   ],
   "source": [
    "sorted([w[0] for w in clauses_inverse_Gardam])==[i for i in model if i>147 and i<2*147+1]"
   ]
  },
  {
   "cell_type": "markdown",
   "id": "d380798b-b12d-4ced-9d19-183d27aada5f",
   "metadata": {},
   "source": [
    "This test shows that Gardams unit could be found by the script, had it been allowed to run"
   ]
  },
  {
   "cell_type": "markdown",
   "id": "099c6448-cb89-4622-9322-5036820e56d6",
   "metadata": {},
   "source": [
    "### 3 Timed partial SAT runs"
   ]
  },
  {
   "cell_type": "markdown",
   "id": "a562f114-7e4a-44bd-b542-9e5e9a87122d",
   "metadata": {},
   "source": [
    "Noting that SAT spent 77min running, what to us seems like a full solution, one might be vary of running SAT with fewer clauses added. We can also note that SAT indeed also had to 'find' the inverse and check all requirements. Firstly, one might instead try to run SAT, where the clauses from the inverse are also added - is this quicker?"
   ]
  },
  {
   "cell_type": "code",
   "execution_count": 127,
   "id": "64829b0b-76f3-4494-8d43-f366ae2438cf",
   "metadata": {},
   "outputs": [],
   "source": [
    "t=Solver()\n",
    "t.append_formula(clauses)\n",
    "t.append_formula(clauses_unit_Gardam)\n",
    "t.append_formula(clauses_inverse_Gardam)"
   ]
  },
  {
   "cell_type": "code",
   "execution_count": 129,
   "id": "7ea6edfd-cc16-49d3-b652-74a4d8029247",
   "metadata": {},
   "outputs": [
    {
     "name": "stdout",
     "output_type": "stream",
     "text": [
      "True\n",
      "[15.337615728378296]\n"
     ]
    }
   ],
   "source": [
    "time0=time.time()\n",
    "value=t.solve()\n",
    "time_list=[time.time()-time0]\n",
    "print(value1)\n",
    "print(time_list)"
   ]
  },
  {
   "cell_type": "markdown",
   "id": "577e44f3-10a9-4d40-b751-cf240f0bb8a0",
   "metadata": {},
   "source": [
    "Okay, this is definetly quicker."
   ]
  },
  {
   "cell_type": "markdown",
   "id": "f88670f2-44ec-4010-935f-3c75ce4c7a06",
   "metadata": {},
   "source": [
    "So, maybe we should try from there, adding fewer clauses"
   ]
  },
  {
   "cell_type": "code",
   "execution_count": 133,
   "id": "ebcbd3e4-9e75-44c4-9e7c-6592c34c979d",
   "metadata": {},
   "outputs": [
    {
     "name": "stdout",
     "output_type": "stream",
     "text": [
      "True 28.00450897216797\n",
      "True 24.531900882720947\n",
      "True 22.29439902305603\n",
      "True 30.15378189086914\n",
      "True 32.581839084625244\n",
      "True 41.22639322280884\n",
      "True 54.43191194534302\n",
      "True 66.77655982971191\n",
      "True 64.05849862098694\n",
      "True 125.92452812194824\n",
      "True 141.4709849357605\n",
      "True 137.63201689720154\n",
      "True 177.15906405448914\n",
      "True 337.2908799648285\n",
      "True 336.0859680175781\n",
      "True 418.6995348930359\n",
      "True 678.8079330921173\n",
      "True 878.5238809585571\n",
      "True 1238.7904839515686\n",
      "True 4616.964509010315\n",
      "True 5639.923819065094\n",
      "[15.337615728378296, 28.00450897216797, 24.531900882720947, 22.29439902305603, 30.15378189086914, 32.581839084625244, 41.22639322280884, 54.43191194534302, 66.77655982971191, 64.05849862098694, 125.92452812194824, 141.4709849357605, 137.63201689720154, 177.15906405448914, 337.2908799648285, 336.0859680175781, 418.6995348930359, 678.8079330921173, 878.5238809585571, 1238.7904839515686, 4616.964509010315, 5639.923819065094]\n"
     ]
    }
   ],
   "source": [
    "for i in range(1,22):\n",
    "    t=Solver()\n",
    "    t.append_formula(clauses)\n",
    "    t.append_formula(clauses_unit_Gardam)\n",
    "    t.append_formula(clauses_inverse_Gardam[:-i])\n",
    "    time0=time.time()\n",
    "    value=t.solve()\n",
    "    time_list.append(time.time()-time0)\n",
    "    print(value,time_list[-1])\n",
    "print(time_list)"
   ]
  },
  {
   "cell_type": "code",
   "execution_count": 135,
   "id": "82ca0b6d-7b27-425f-8947-5c8e576ec6d6",
   "metadata": {},
   "outputs": [
    {
     "data": {
      "text/plain": [
       "93.98333333333333"
      ]
     },
     "execution_count": 135,
     "metadata": {},
     "output_type": "execute_result"
    }
   ],
   "source": [
    "5639/60"
   ]
  },
  {
   "cell_type": "markdown",
   "id": "2d6b35b1-f6aa-4114-b13c-0ace76daa907",
   "metadata": {},
   "source": [
    "Now, plotting:"
   ]
  },
  {
   "cell_type": "code",
   "execution_count": 2,
   "id": "c299ba0d-7b1b-48a3-9be3-4a98b3f16664",
   "metadata": {},
   "outputs": [],
   "source": [
    "import matplotlib.pyplot as plt"
   ]
  },
  {
   "cell_type": "code",
   "execution_count": 20,
   "id": "b200cc41-fde7-46ab-8351-df442197f5d3",
   "metadata": {},
   "outputs": [],
   "source": [
    "number=list(range(42,20,-1))\n",
    "time=[15.337615728378296, 28.00450897216797, 24.531900882720947, 22.29439902305603, 30.15378189086914, 32.581839084625244, 41.22639322280884, 54.43191194534302, 66.77655982971191, 64.05849862098694, 125.92452812194824, 141.4709849357605, 137.63201689720154, 177.15906405448914, 337.2908799648285, 336.0859680175781, 418.6995348930359, 678.8079330921173, 878.5238809585571, 1238.7904839515686, 4616.964509010315, 5639.923819065094]"
   ]
  },
  {
   "cell_type": "code",
   "execution_count": 22,
   "id": "22460ad1-b906-4d48-ae54-08712114863e",
   "metadata": {},
   "outputs": [
    {
     "data": {
      "text/plain": [
       "22"
      ]
     },
     "execution_count": 22,
     "metadata": {},
     "output_type": "execute_result"
    }
   ],
   "source": [
    "len(number)"
   ]
  },
  {
   "cell_type": "code",
   "execution_count": 24,
   "id": "14903415-3cca-4649-9449-413bbeeb0a2c",
   "metadata": {},
   "outputs": [
    {
     "data": {
      "text/plain": [
       "22"
      ]
     },
     "execution_count": 24,
     "metadata": {},
     "output_type": "execute_result"
    }
   ],
   "source": [
    "len(time)"
   ]
  },
  {
   "cell_type": "code",
   "execution_count": 38,
   "id": "01068b8f-6b2f-4a2c-957e-9a53a8c7d5ee",
   "metadata": {},
   "outputs": [
    {
     "data": {
      "image/png": "[encoded data removed]",
      "text/plain": [
       "<Figure size 600x500 with 1 Axes>"
      ]
     },
     "metadata": {},
     "output_type": "display_data"
    }
   ],
   "source": [
    "plt.figure(figsize=(6, 5))\n",
    "plt.plot(number, time, color='chocolate', marker='.')\n",
    "plt.xlabel('Number of added clauses')\n",
    "plt.ylabel('Runtime in seconds')\n",
    "plt.savefig('partial_solutions.png', dpi=300, bbox_inches=None)\n",
    "plt.show()"
   ]
  },
  {
   "cell_type": "code",
   "execution_count": null,
   "id": "ea8b1ce5-54e4-485d-8e79-11c5abbf54b9",
   "metadata": {},
   "outputs": [],
   "source": []
  }
 ],
 "metadata": {
  "kernelspec": {
   "display_name": "Python [conda env:base] *",
   "language": "python",
   "name": "conda-base-py"
  },
  "language_info": {
   "codemirror_mode": {
    "name": "ipython",
    "version": 3
   },
   "file_extension": ".py",
   "mimetype": "text/x-python",
   "name": "python",
   "nbconvert_exporter": "python",
   "pygments_lexer": "ipython3",
   "version": "3.12.7"
  }
 },
 "nbformat": 4,
 "nbformat_minor": 5
}
