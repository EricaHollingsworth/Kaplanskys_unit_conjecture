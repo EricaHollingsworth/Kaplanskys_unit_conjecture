{
 "cells": [
  {
   "cell_type": "markdown",
   "id": "2308841e-1a1c-4cb8-b754-550fba319ad8",
   "metadata": {},
   "source": [
    "### 1 Readying Clauses"
   ]
  },
  {
   "cell_type": "markdown",
   "id": "f7003fe9-f5d3-40b0-855c-da1cf6c54d76",
   "metadata": {},
   "source": [
    "#### Importing Clauses"
   ]
  },
  {
   "cell_type": "code",
   "execution_count": 3,
   "id": "f8649134-457b-48d8-a8f2-0820573b8d5a",
   "metadata": {},
   "outputs": [],
   "source": [
    "import ast #helps to change string into list below"
   ]
  },
  {
   "cell_type": "code",
   "execution_count": 4,
   "id": "4ee4299b-cbd7-4581-b67e-edc44daf4142",
   "metadata": {},
   "outputs": [],
   "source": [
    "f = open(\"clauses.txt\",\"r\")\n",
    "clauses=ast.literal_eval(f.read())"
   ]
  },
  {
   "cell_type": "markdown",
   "id": "42b0bf56-23cf-4c81-9562-4d87c221959f",
   "metadata": {},
   "source": [
    "#### Scrambling Clauses via random.sample"
   ]
  },
  {
   "cell_type": "code",
   "execution_count": 6,
   "id": "e8ca22c5-021c-436b-9bbd-5fa45cbdad0f",
   "metadata": {},
   "outputs": [],
   "source": [
    "import random #used to shuffle lists"
   ]
  },
  {
   "cell_type": "code",
   "execution_count": 7,
   "id": "f0213d5a-9bf7-4a41-8c90-f21db6d70e42",
   "metadata": {},
   "outputs": [],
   "source": [
    "eight_lists_of_clauses=[]\n",
    "for i in range(8):\n",
    "    eight_lists_of_clauses.append(random.sample(clauses,len(clauses)))"
   ]
  },
  {
   "cell_type": "markdown",
   "id": "b828bb69-a6d0-4405-aa57-0a2c364952ac",
   "metadata": {},
   "source": [
    "Running some simple checks"
   ]
  },
  {
   "cell_type": "code",
   "execution_count": 9,
   "id": "10eed192-9f27-41c3-9473-4d6ebe2de26b",
   "metadata": {},
   "outputs": [
    {
     "name": "stdout",
     "output_type": "stream",
     "text": [
      "8\n",
      "144873\n",
      "[[127, -18916], [10957, -11425, -11833, -31445], [245, -13622], [23, -3636], [18468, 18868, 19248, -22926], [-72, -270, 10854], [22723, 22724, -22725, 22734], [105, -15722], [151, -20437], [3975, -4608, -4786, -25920]]\n"
     ]
    }
   ],
   "source": [
    "print(len(eight_lists_of_clauses))\n",
    "print(len(eight_lists_of_clauses[1]))\n",
    "print(eight_lists_of_clauses[1][:10])"
   ]
  },
  {
   "cell_type": "markdown",
   "id": "fa151781-33b0-4591-94cd-ea0db2199ab7",
   "metadata": {},
   "source": [
    "### 2 starting SAT"
   ]
  },
  {
   "cell_type": "markdown",
   "id": "8b228016-dccd-4dd3-83a4-fa177acc3c41",
   "metadata": {},
   "source": [
    "In the following line I import a solve. Note that at the moment Minisat22 is chosen as Solver, but that this can be changed without changing anything else in the document - syntax seems to be consistent across solvers"
   ]
  },
  {
   "cell_type": "code",
   "execution_count": 12,
   "id": "dad0785c-aefb-406d-a798-b031a5264080",
   "metadata": {},
   "outputs": [],
   "source": [
    "from pysat.solvers import Minisat22 as Solver"
   ]
  },
  {
   "cell_type": "markdown",
   "id": "1040f1e2-1171-4909-9b69-4ac733c15297",
   "metadata": {},
   "source": [
    "#### Load function"
   ]
  },
  {
   "cell_type": "markdown",
   "id": "0fafed60-1376-418d-a35b-8d204beadf77",
   "metadata": {},
   "source": [
    "It seems silly, but there were some difficulties automating the following"
   ]
  },
  {
   "cell_type": "code",
   "execution_count": 15,
   "id": "3bcd6437-1f56-4f74-9cee-8910b5e35aba",
   "metadata": {},
   "outputs": [],
   "source": [
    "s1=Solver()\n",
    "s2=Solver()\n",
    "s3=Solver()\n",
    "s4=Solver()\n",
    "s5=Solver()\n",
    "s6=Solver()\n",
    "s7=Solver()\n",
    "s8=Solver()"
   ]
  },
  {
   "cell_type": "code",
   "execution_count": 16,
   "id": "e1da6cac-41ec-491e-99e4-75db0cbddd9a",
   "metadata": {},
   "outputs": [],
   "source": [
    "names=[s1,s2,s3,s4,s5,s6,s7,s8]\n",
    "for i in range(8):\n",
    "    names[i].append_formula(eight_lists_of_clauses[i])"
   ]
  },
  {
   "cell_type": "markdown",
   "id": "17843d42-0b86-464e-8ea1-e98330c86e5f",
   "metadata": {},
   "source": [
    "Now the solvers are loaded with a different shuffle of the same 144k clauses"
   ]
  },
  {
   "cell_type": "markdown",
   "id": "a77171ec-8b3d-4ea3-bc66-cb330ba6112e",
   "metadata": {},
   "source": [
    "### 3 Multiprocessing"
   ]
  },
  {
   "cell_type": "code",
   "execution_count": 19,
   "id": "1b8a9673-c8e7-45b4-8387-4de63bdf27e3",
   "metadata": {},
   "outputs": [],
   "source": [
    "from multiprocess import Event, Process"
   ]
  },
  {
   "cell_type": "code",
   "execution_count": 20,
   "id": "6b08f281-68cf-431b-b889-c83df1ce7528",
   "metadata": {},
   "outputs": [],
   "source": [
    "import time"
   ]
  },
  {
   "cell_type": "code",
   "execution_count": 21,
   "id": "077758d6-0008-4c83-b9e8-f0b00fa93ff1",
   "metadata": {},
   "outputs": [],
   "source": [
    "def worker(i,name,event):\n",
    "    print(f\"Worker s{i+1}: I've got the problem! Working hard on it...\")\n",
    "    result=name.solve()\n",
    "    time.sleep(1)\n",
    "    print(f's{i+1} yields {result}')\n",
    "    event.set()  # Trigger the event"
   ]
  },
  {
   "cell_type": "code",
   "execution_count": 22,
   "id": "e9ae36ab-e3e3-468f-acc1-90702fce8969",
   "metadata": {},
   "outputs": [],
   "source": [
    "def main():\n",
    "    t0=time.time() #saving initial time\n",
    "    \n",
    "    start_event = Event() # Create the event\n",
    "    \n",
    "    # Create and start the worker processes\n",
    "    processes=[]\n",
    "    for i in range(8):\n",
    "        p=Process(target=worker, args=(i,names[i],start_event))\n",
    "        processes.append(p)\n",
    "        \n",
    "    print('Main: setting the workers to work')\n",
    "    for p in processes:\n",
    "        p.start()\n",
    "\n",
    "    print(\"Main: Waiting for a worker to finish.\")\n",
    "    start_event.wait()  # Main process will wait here until event is set\n",
    "    print(\"Main: One worker has finished\")\n",
    "\n",
    "    print(\"Main: Stopping other workers\")\n",
    "    \n",
    "    for p in processes:\n",
    "        p.terminate()\n",
    "\n",
    "    time_spent=(time.time()-t0)/(60*60)\n",
    "    print(f\"Main: Process is finished after {time_spent} hours\")"
   ]
  },
  {
   "cell_type": "code",
   "execution_count": 23,
   "id": "a04c7b08-e712-4bc2-bdca-3686140e61a4",
   "metadata": {},
   "outputs": [
    {
     "name": "stdout",
     "output_type": "stream",
     "text": [
      "Main: setting the workers to work\n",
      "Worker s1: I've got the problem! Working hard on it...\n",
      "Worker s2: I've got the problem! Working hard on it...\n",
      "Worker s3: I've got the problem! Working hard on it...\n",
      "Worker s4: I've got the problem! Working hard on it...\n",
      "Worker s5: I've got the problem! Working hard on it...\n",
      "Worker s6: I've got the problem! Working hard on it...\n",
      "Worker s7: I've got the problem! Working hard on it...\n",
      "Main: Waiting for a worker to finish.\n",
      "Worker s8: I've got the problem! Working hard on it...\n"
     ]
    },
    {
     "name": "stderr",
     "output_type": "stream",
     "text": [
      "Process Process-6:\n",
      "Process Process-3:\n",
      "Process Process-2:\n",
      "Process Process-8:\n",
      "Process Process-5:\n",
      "Process Process-4:\n",
      "Process Process-7:\n",
      "Process Process-1:\n",
      "Traceback (most recent call last):\n",
      "Traceback (most recent call last):\n",
      "Traceback (most recent call last):\n",
      "Traceback (most recent call last):\n",
      "Traceback (most recent call last):\n",
      "Traceback (most recent call last):\n",
      "Traceback (most recent call last):\n",
      "Traceback (most recent call last):\n",
      "  File \"/opt/anaconda3/lib/python3.12/site-packages/multiprocess/process.py\", line 314, in _bootstrap\n",
      "    self.run()\n",
      "  File \"/opt/anaconda3/lib/python3.12/site-packages/multiprocess/process.py\", line 314, in _bootstrap\n",
      "    self.run()\n",
      "  File \"/opt/anaconda3/lib/python3.12/site-packages/multiprocess/process.py\", line 108, in run\n",
      "    self._target(*self._args, **self._kwargs)\n",
      "  File \"/opt/anaconda3/lib/python3.12/site-packages/multiprocess/process.py\", line 314, in _bootstrap\n",
      "    self.run()\n",
      "  File \"/opt/anaconda3/lib/python3.12/site-packages/multiprocess/process.py\", line 314, in _bootstrap\n",
      "    self.run()\n",
      "  File \"/opt/anaconda3/lib/python3.12/site-packages/multiprocess/process.py\", line 314, in _bootstrap\n",
      "    self.run()\n",
      "  File \"/opt/anaconda3/lib/python3.12/site-packages/multiprocess/process.py\", line 314, in _bootstrap\n",
      "    self.run()\n",
      "  File \"/opt/anaconda3/lib/python3.12/site-packages/multiprocess/process.py\", line 314, in _bootstrap\n",
      "    self.run()\n",
      "  File \"/opt/anaconda3/lib/python3.12/site-packages/multiprocess/process.py\", line 108, in run\n",
      "    self._target(*self._args, **self._kwargs)\n",
      "  File \"/var/folders/p8/6drv14952t14shhb6jqtm3900000gn/T/ipykernel_7541/600756742.py\", line 3, in worker\n",
      "    result=name.solve()\n",
      "           ^^^^^^^^^^^^\n",
      "  File \"/opt/anaconda3/lib/python3.12/site-packages/multiprocess/process.py\", line 314, in _bootstrap\n",
      "    self.run()\n",
      "  File \"/opt/anaconda3/lib/python3.12/site-packages/multiprocess/process.py\", line 108, in run\n",
      "    self._target(*self._args, **self._kwargs)\n",
      "  File \"/var/folders/p8/6drv14952t14shhb6jqtm3900000gn/T/ipykernel_7541/600756742.py\", line 3, in worker\n",
      "    result=name.solve()\n",
      "           ^^^^^^^^^^^^\n",
      "  File \"/opt/anaconda3/lib/python3.12/site-packages/pysat/solvers.py\", line 6601, in solve\n",
      "    self.status = pysolvers.minisat22_solve(self.minisat, assumptions,\n",
      "                  ^^^^^^^^^^^^^^^^^^^^^^^^^^^^^^^^^^^^^^^^^^^^^^^^^^^^\n",
      "  File \"/opt/anaconda3/lib/python3.12/site-packages/multiprocess/process.py\", line 108, in run\n",
      "    self._target(*self._args, **self._kwargs)\n",
      "  File \"/opt/anaconda3/lib/python3.12/site-packages/multiprocess/process.py\", line 108, in run\n",
      "    self._target(*self._args, **self._kwargs)\n",
      "  File \"/opt/anaconda3/lib/python3.12/site-packages/multiprocess/process.py\", line 108, in run\n",
      "    self._target(*self._args, **self._kwargs)\n",
      "  File \"/opt/anaconda3/lib/python3.12/site-packages/multiprocess/process.py\", line 108, in run\n",
      "    self._target(*self._args, **self._kwargs)\n",
      "  File \"/opt/anaconda3/lib/python3.12/site-packages/multiprocess/process.py\", line 108, in run\n",
      "    self._target(*self._args, **self._kwargs)\n",
      "  File \"/var/folders/p8/6drv14952t14shhb6jqtm3900000gn/T/ipykernel_7541/600756742.py\", line 3, in worker\n",
      "    result=name.solve()\n",
      "           ^^^^^^^^^^^^\n",
      "  File \"/var/folders/p8/6drv14952t14shhb6jqtm3900000gn/T/ipykernel_7541/600756742.py\", line 3, in worker\n",
      "    result=name.solve()\n",
      "           ^^^^^^^^^^^^\n",
      "pysolvers.error: Caught keyboard interrupt\n",
      "  File \"/opt/anaconda3/lib/python3.12/site-packages/pysat/solvers.py\", line 6601, in solve\n",
      "    self.status = pysolvers.minisat22_solve(self.minisat, assumptions,\n",
      "                  ^^^^^^^^^^^^^^^^^^^^^^^^^^^^^^^^^^^^^^^^^^^^^^^^^^^^\n",
      "  File \"/var/folders/p8/6drv14952t14shhb6jqtm3900000gn/T/ipykernel_7541/600756742.py\", line 3, in worker\n",
      "    result=name.solve()\n",
      "           ^^^^^^^^^^^^\n",
      "  File \"/var/folders/p8/6drv14952t14shhb6jqtm3900000gn/T/ipykernel_7541/600756742.py\", line 3, in worker\n",
      "    result=name.solve()\n",
      "           ^^^^^^^^^^^^\n",
      "  File \"/var/folders/p8/6drv14952t14shhb6jqtm3900000gn/T/ipykernel_7541/600756742.py\", line 3, in worker\n",
      "    result=name.solve()\n",
      "           ^^^^^^^^^^^^\n",
      "  File \"/var/folders/p8/6drv14952t14shhb6jqtm3900000gn/T/ipykernel_7541/600756742.py\", line 3, in worker\n",
      "    result=name.solve()\n",
      "           ^^^^^^^^^^^^\n",
      "  File \"/opt/anaconda3/lib/python3.12/site-packages/pysat/solvers.py\", line 6601, in solve\n",
      "    self.status = pysolvers.minisat22_solve(self.minisat, assumptions,\n",
      "                  ^^^^^^^^^^^^^^^^^^^^^^^^^^^^^^^^^^^^^^^^^^^^^^^^^^^^\n",
      "  File \"/opt/anaconda3/lib/python3.12/site-packages/pysat/solvers.py\", line 6601, in solve\n",
      "    self.status = pysolvers.minisat22_solve(self.minisat, assumptions,\n",
      "                  ^^^^^^^^^^^^^^^^^^^^^^^^^^^^^^^^^^^^^^^^^^^^^^^^^^^^\n",
      "pysolvers.error: Caught keyboard interrupt\n",
      "  File \"/opt/anaconda3/lib/python3.12/site-packages/pysat/solvers.py\", line 6601, in solve\n",
      "    self.status = pysolvers.minisat22_solve(self.minisat, assumptions,\n",
      "                  ^^^^^^^^^^^^^^^^^^^^^^^^^^^^^^^^^^^^^^^^^^^^^^^^^^^^\n",
      "pysolvers.error: Caught keyboard interrupt\n",
      "  File \"/opt/anaconda3/lib/python3.12/site-packages/pysat/solvers.py\", line 6601, in solve\n",
      "    self.status = pysolvers.minisat22_solve(self.minisat, assumptions,\n",
      "                  ^^^^^^^^^^^^^^^^^^^^^^^^^^^^^^^^^^^^^^^^^^^^^^^^^^^^\n",
      "  File \"/opt/anaconda3/lib/python3.12/site-packages/pysat/solvers.py\", line 6601, in solve\n",
      "    self.status = pysolvers.minisat22_solve(self.minisat, assumptions,\n",
      "                  ^^^^^^^^^^^^^^^^^^^^^^^^^^^^^^^^^^^^^^^^^^^^^^^^^^^^\n",
      "pysolvers.error: Caught keyboard interrupt\n",
      "pysolvers.error: Caught keyboard interrupt\n",
      "pysolvers.error: Caught keyboard interrupt\n",
      "  File \"/opt/anaconda3/lib/python3.12/site-packages/pysat/solvers.py\", line 6601, in solve\n",
      "    self.status = pysolvers.minisat22_solve(self.minisat, assumptions,\n",
      "                  ^^^^^^^^^^^^^^^^^^^^^^^^^^^^^^^^^^^^^^^^^^^^^^^^^^^^\n",
      "pysolvers.error: Caught keyboard interrupt\n",
      "pysolvers.error: Caught keyboard interrupt\n"
     ]
    },
    {
     "ename": "KeyboardInterrupt",
     "evalue": "",
     "output_type": "error",
     "traceback": [
      "\u001b[0;31m---------------------------------------------------------------------------\u001b[0m",
      "\u001b[0;31mKeyboardInterrupt\u001b[0m                         Traceback (most recent call last)",
      "Cell \u001b[0;32mIn[23], line 2\u001b[0m\n\u001b[1;32m      1\u001b[0m \u001b[38;5;28;01mif\u001b[39;00m \u001b[38;5;18m__name__\u001b[39m \u001b[38;5;241m==\u001b[39m \u001b[38;5;124m'\u001b[39m\u001b[38;5;124m__main__\u001b[39m\u001b[38;5;124m'\u001b[39m:\n\u001b[0;32m----> 2\u001b[0m     main()\n",
      "Cell \u001b[0;32mIn[22], line 17\u001b[0m, in \u001b[0;36mmain\u001b[0;34m()\u001b[0m\n\u001b[1;32m     14\u001b[0m     p\u001b[38;5;241m.\u001b[39mstart()\n\u001b[1;32m     16\u001b[0m \u001b[38;5;28mprint\u001b[39m(\u001b[38;5;124m\"\u001b[39m\u001b[38;5;124mMain: Waiting for a worker to finish.\u001b[39m\u001b[38;5;124m\"\u001b[39m)\n\u001b[0;32m---> 17\u001b[0m start_event\u001b[38;5;241m.\u001b[39mwait()  \u001b[38;5;66;03m# Main process will wait here until event is set\u001b[39;00m\n\u001b[1;32m     18\u001b[0m \u001b[38;5;28mprint\u001b[39m(\u001b[38;5;124m\"\u001b[39m\u001b[38;5;124mMain: One worker has finished\u001b[39m\u001b[38;5;124m\"\u001b[39m)\n\u001b[1;32m     20\u001b[0m \u001b[38;5;28mprint\u001b[39m(\u001b[38;5;124m\"\u001b[39m\u001b[38;5;124mMain: Stopping other workers\u001b[39m\u001b[38;5;124m\"\u001b[39m)\n",
      "File \u001b[0;32m/opt/anaconda3/lib/python3.12/site-packages/multiprocess/synchronize.py:362\u001b[0m, in \u001b[0;36mEvent.wait\u001b[0;34m(self, timeout)\u001b[0m\n\u001b[1;32m    360\u001b[0m     \u001b[38;5;28mself\u001b[39m\u001b[38;5;241m.\u001b[39m_flag\u001b[38;5;241m.\u001b[39mrelease()\n\u001b[1;32m    361\u001b[0m \u001b[38;5;28;01melse\u001b[39;00m:\n\u001b[0;32m--> 362\u001b[0m     \u001b[38;5;28mself\u001b[39m\u001b[38;5;241m.\u001b[39m_cond\u001b[38;5;241m.\u001b[39mwait(timeout)\n\u001b[1;32m    364\u001b[0m \u001b[38;5;28;01mif\u001b[39;00m \u001b[38;5;28mself\u001b[39m\u001b[38;5;241m.\u001b[39m_flag\u001b[38;5;241m.\u001b[39macquire(\u001b[38;5;28;01mFalse\u001b[39;00m):\n\u001b[1;32m    365\u001b[0m     \u001b[38;5;28mself\u001b[39m\u001b[38;5;241m.\u001b[39m_flag\u001b[38;5;241m.\u001b[39mrelease()\n",
      "File \u001b[0;32m/opt/anaconda3/lib/python3.12/site-packages/multiprocess/synchronize.py:274\u001b[0m, in \u001b[0;36mCondition.wait\u001b[0;34m(self, timeout)\u001b[0m\n\u001b[1;32m    270\u001b[0m     \u001b[38;5;28mself\u001b[39m\u001b[38;5;241m.\u001b[39m_lock\u001b[38;5;241m.\u001b[39mrelease()\n\u001b[1;32m    272\u001b[0m \u001b[38;5;28;01mtry\u001b[39;00m:\n\u001b[1;32m    273\u001b[0m     \u001b[38;5;66;03m# wait for notification or timeout\u001b[39;00m\n\u001b[0;32m--> 274\u001b[0m     \u001b[38;5;28;01mreturn\u001b[39;00m \u001b[38;5;28mself\u001b[39m\u001b[38;5;241m.\u001b[39m_wait_semaphore\u001b[38;5;241m.\u001b[39macquire(\u001b[38;5;28;01mTrue\u001b[39;00m, timeout)\n\u001b[1;32m    275\u001b[0m \u001b[38;5;28;01mfinally\u001b[39;00m:\n\u001b[1;32m    276\u001b[0m     \u001b[38;5;66;03m# indicate that this thread has woken\u001b[39;00m\n\u001b[1;32m    277\u001b[0m     \u001b[38;5;28mself\u001b[39m\u001b[38;5;241m.\u001b[39m_woken_count\u001b[38;5;241m.\u001b[39mrelease()\n",
      "\u001b[0;31mKeyboardInterrupt\u001b[0m: "
     ]
    }
   ],
   "source": [
    "if __name__ == '__main__':\n",
    "    main()"
   ]
  },
  {
   "cell_type": "code",
   "execution_count": null,
   "id": "2ee00129-c6ce-4089-a773-841ccd3382b6",
   "metadata": {},
   "outputs": [],
   "source": []
  }
 ],
 "metadata": {
  "kernelspec": {
   "display_name": "Python [conda env:base] *",
   "language": "python",
   "name": "conda-base-py"
  },
  "language_info": {
   "codemirror_mode": {
    "name": "ipython",
    "version": 3
   },
   "file_extension": ".py",
   "mimetype": "text/x-python",
   "name": "python",
   "nbconvert_exporter": "python",
   "pygments_lexer": "ipython3",
   "version": "3.12.7"
  }
 },
 "nbformat": 4,
 "nbformat_minor": 5
}
